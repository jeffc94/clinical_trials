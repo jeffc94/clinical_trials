{
 "cells": [
  {
   "cell_type": "code",
   "execution_count": 1,
   "metadata": {},
   "outputs": [],
   "source": [
    "import random\n",
    "import numpy as np\n",
    "from matplotlib import pyplot as plt\n",
    "%matplotlib inline\n",
    "\n",
    "def draw_coins(n):\n",
    "    # check if input is an integer\n",
    "    if not isinstance(n, int):\n",
    "        return ('Not a valid input.')\n",
    "    else:\n",
    "        # create list from 1 to N\n",
    "        bag = list(range(1,n + 1))\n",
    "        \n",
    "        # pop random elements from list - simulate picking from bag at random\n",
    "        # first choice - receive full value\n",
    "        total = bag.pop(random.randrange(len(bag)))\n",
    "        \n",
    "        # set first choice equal to previous choice\n",
    "        previous = total\n",
    "        \n",
    "        # iterate while bag is not empty\n",
    "        while bag:\n",
    "            # random choice from bag, add absolute difference between random choice and previous to running total\n",
    "            new = bag.pop(random.randrange(len(bag)))\n",
    "            total += abs(new - previous)\n",
    "            previous = new\n",
    "        return total"
   ]
  },
  {
   "cell_type": "code",
   "execution_count": 2,
   "metadata": {},
   "outputs": [
    {
     "name": "stdout",
     "output_type": "stream",
     "text": [
      "38.48531\n",
      "6.385624809202307\n"
     ]
    }
   ],
   "source": [
    "ten_n = []\n",
    "for i in range(100000):\n",
    "    ten_n.append(draw_coins(10))\n",
    "if len(ten_n) == 100000:\n",
    "    print(np.mean(ten_n))\n",
    "    print(np.std(ten_n))\n",
    "    "
   ]
  },
  {
   "cell_type": "code",
   "execution_count": 3,
   "metadata": {},
   "outputs": [
    {
     "name": "stdout",
     "output_type": "stream",
     "text": [
      "143.56528\n",
      "18.384938360560255\n"
     ]
    }
   ],
   "source": [
    "twenty_n = []\n",
    "for i in range(100000):\n",
    "    twenty_n.append(draw_coins(20))\n",
    "if len(twenty_n) == 100000:\n",
    "    print(np.mean(twenty_n))\n",
    "    print(np.std(twenty_n))"
   ]
  },
  {
   "cell_type": "code",
   "execution_count": 4,
   "metadata": {},
   "outputs": [
    {
     "data": {
      "text/plain": [
       "0.18246"
      ]
     },
     "execution_count": 4,
     "metadata": {},
     "output_type": "execute_result"
    }
   ],
   "source": [
    "np.mean(np.array(ten_n) >= 45)"
   ]
  },
  {
   "cell_type": "code",
   "execution_count": 5,
   "metadata": {},
   "outputs": [
    {
     "data": {
      "text/plain": [
       "0.19839"
      ]
     },
     "execution_count": 5,
     "metadata": {},
     "output_type": "execute_result"
    }
   ],
   "source": [
    "np.mean(np.array(twenty_n) >= 160)"
   ]
  },
  {
   "cell_type": "code",
   "execution_count": null,
   "metadata": {},
   "outputs": [],
   "source": []
  }
 ],
 "metadata": {
  "kernelspec": {
   "display_name": "Python 3",
   "language": "python",
   "name": "python3"
  },
  "language_info": {
   "codemirror_mode": {
    "name": "ipython",
    "version": 3
   },
   "file_extension": ".py",
   "mimetype": "text/x-python",
   "name": "python",
   "nbconvert_exporter": "python",
   "pygments_lexer": "ipython3",
   "version": "3.7.6"
  }
 },
 "nbformat": 4,
 "nbformat_minor": 2
}

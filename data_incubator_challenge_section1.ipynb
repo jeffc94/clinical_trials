{
 "cells": [
  {
   "cell_type": "code",
   "execution_count": 1,
   "metadata": {},
   "outputs": [],
   "source": [
    "import pandas as pd\n",
    "import numpy as np\n",
    "from matplotlib import pyplot as plt\n",
    "%matplotlib inline\n",
    "\n",
    "completed = pd.read_csv('Completed.csv')\n",
    "terminated = pd.read_csv('Terminated.csv')"
   ]
  },
  {
   "cell_type": "code",
   "execution_count": 2,
   "metadata": {},
   "outputs": [],
   "source": [
    "completed['target'] = 1\n",
    "terminated['target'] = 0"
   ]
  },
  {
   "cell_type": "code",
   "execution_count": 3,
   "metadata": {},
   "outputs": [],
   "source": [
    "good_sample = completed.sample(n=5000, random_state=42)\n",
    "bad_sample = terminated.sample(n=5000, random_state=42)\n",
    "total = pd.concat([good_sample, bad_sample], ignore_index=True)"
   ]
  },
  {
   "cell_type": "code",
   "execution_count": 4,
   "metadata": {},
   "outputs": [
    {
     "data": {
      "text/plain": [
       "Index(['Rank', 'NCT Number', 'Title', 'Acronym', 'Status', 'Study Results',\n",
       "       'Conditions', 'Interventions', 'Outcome Measures',\n",
       "       'Sponsor/Collaborators', 'Gender', 'Age', 'Phases', 'Enrollment',\n",
       "       'Funded Bys', 'Study Type', 'Study Designs', 'Other IDs', 'Start Date',\n",
       "       'Primary Completion Date', 'Completion Date', 'First Posted',\n",
       "       'Results First Posted', 'Last Update Posted', 'Locations',\n",
       "       'Study Documents', 'URL', 'target'],\n",
       "      dtype='object')"
      ]
     },
     "execution_count": 4,
     "metadata": {},
     "output_type": "execute_result"
    }
   ],
   "source": [
    "total.columns"
   ]
  },
  {
   "cell_type": "code",
   "execution_count": 5,
   "metadata": {},
   "outputs": [
    {
     "name": "stdout",
     "output_type": "stream",
     "text": [
      "3071 6784\n"
     ]
    }
   ],
   "source": [
    "good_phases = completed[completed['Phases'] != 'Not Applicable']\n",
    "bad_phases = terminated[terminated['Phases'] != 'Not Applicable']\n",
    "print(len(good_phases), len(bad_phases))"
   ]
  },
  {
   "cell_type": "code",
   "execution_count": 6,
   "metadata": {},
   "outputs": [],
   "source": [
    "good_phases_sample = good_phases.sample(n=3000, random_state=42)\n",
    "bad_phases_sample = bad_phases.sample(n=3000, random_state=42)\n",
    "total_phases = pd.concat([good_phases_sample, bad_phases_sample], ignore_index=True)\n",
    "phase_vs_target = total_phases.groupby(['Phases','target'])['Rank'].count()"
   ]
  },
  {
   "cell_type": "code",
   "execution_count": 7,
   "metadata": {},
   "outputs": [],
   "source": [
    "labels = good_phases.Phases.unique()\n",
    "labels.sort()\n",
    "phase_terminate = [phase_vs_target[x] for x in range(len(phase_vs_target)) if x % 2 == 0]\n",
    "phase_complete = [phase_vs_target[x] for x in range(len(phase_vs_target)) if x % 2 != 0]"
   ]
  },
  {
   "cell_type": "code",
   "execution_count": 8,
   "metadata": {},
   "outputs": [],
   "source": [
    "d = len(phase_terminate)\n",
    "w = 0.8\n",
    "first_x = [2*element + w*1 for element in range(d)]\n",
    "second_x = [2*element + w*2 for element in range(d)]"
   ]
  },
  {
   "cell_type": "code",
   "execution_count": 9,
   "metadata": {},
   "outputs": [
    {
     "data": {
      "image/png": "[encoded data removed]",
      "text/plain": [
       "<Figure size 432x288 with 1 Axes>"
      ]
     },
     "metadata": {
      "needs_background": "light"
     },
     "output_type": "display_data"
    }
   ],
   "source": [
    "ax = plt.subplot()\n",
    "ax.bar(first_x, phase_terminate)\n",
    "ax.bar(second_x, phase_complete)\n",
    "ax.set_xticks([(x+y)/2 for x, y in zip(first_x, second_x)])\n",
    "ax.set_xticklabels(labels, rotation=90)\n",
    "ax.legend(['Terminated','Completed'])\n",
    "ax.set_title('Phase of Completed/Terminated Trials, n=6000')\n",
    "ax.set_ylabel('Number of Trials')\n",
    "plt.show()"
   ]
  },
  {
   "cell_type": "code",
   "execution_count": 10,
   "metadata": {},
   "outputs": [
    {
     "data": {
      "image/png": "[encoded data removed]",
      "text/plain": [
       "<Figure size 432x288 with 1 Axes>"
      ]
     },
     "metadata": {
      "needs_background": "light"
     },
     "output_type": "display_data"
    }
   ],
   "source": [
    "total['is_drug_trial'] = total['Interventions'].apply(lambda x: True if 'Drug' in x or 'drug' in x else False)\n",
    "drug_vs_target = total.groupby(['is_drug_trial','target'])['Rank'].count()\n",
    "drug_terminate = [drug_vs_target.values[x] for x in range(len(drug_vs_target)) if x % 2 == 0]\n",
    "drug_complete = [drug_vs_target.values[x] for x in range(len(drug_vs_target)) if x % 2 != 0]\n",
    "d = len(drug_terminate)\n",
    "first_x = [2*element + w*1 for element in range(d)]\n",
    "second_x = [2*element + w*2 for element in range(d)]\n",
    "ax2 = plt.subplot()\n",
    "ax2.bar(first_x, drug_terminate)\n",
    "ax2.bar(second_x, drug_complete)\n",
    "ax2.set_xticks([(x+y)/2 for x, y in zip(first_x, second_x)])\n",
    "ax2.set_xticklabels(['Involved no Drug intervention','Involved Drug intervention'])\n",
    "ax2.legend(['Terminated','Completed'], loc='best')\n",
    "ax2.set_title('Phase of Completed/Terminated Trials, n=10000')\n",
    "ax2.set_ylabel('Number of Trials')\n",
    "plt.show()"
   ]
  },
  {
   "cell_type": "code",
   "execution_count": 11,
   "metadata": {},
   "outputs": [],
   "source": [
    "from sklearn.model_selection import train_test_split\n",
    "from sklearn.ensemble import RandomForestClassifier\n",
    "\n",
    "X = total[['Age','Gender','Enrollment','Phases','Funded Bys','Study Type','Study Designs']]\n",
    "y = total[['target']]\n",
    "x_train, x_test, y_train, y_test = train_test_split(X, y, random_state=42)"
   ]
  },
  {
   "cell_type": "code",
   "execution_count": 12,
   "metadata": {},
   "outputs": [
    {
     "data": {
      "text/html": [
       "<div>\n",
       "<style scoped>\n",
       "    .dataframe tbody tr th:only-of-type {\n",
       "        vertical-align: middle;\n",
       "    }\n",
       "\n",
       "    .dataframe tbody tr th {\n",
       "        vertical-align: top;\n",
       "    }\n",
       "\n",
       "    .dataframe thead th {\n",
       "        text-align: right;\n",
       "    }\n",
       "</style>\n",
       "<table border=\"1\" class=\"dataframe\">\n",
       "  <thead>\n",
       "    <tr style=\"text-align: right;\">\n",
       "      <th></th>\n",
       "      <th>Rank</th>\n",
       "      <th>NCT Number</th>\n",
       "      <th>Title</th>\n",
       "      <th>Acronym</th>\n",
       "      <th>Status</th>\n",
       "      <th>Study Results</th>\n",
       "      <th>Conditions</th>\n",
       "      <th>Interventions</th>\n",
       "      <th>Outcome Measures</th>\n",
       "      <th>Sponsor/Collaborators</th>\n",
       "      <th>...</th>\n",
       "      <th>Start Date</th>\n",
       "      <th>Primary Completion Date</th>\n",
       "      <th>Completion Date</th>\n",
       "      <th>First Posted</th>\n",
       "      <th>Results First Posted</th>\n",
       "      <th>Last Update Posted</th>\n",
       "      <th>Locations</th>\n",
       "      <th>Study Documents</th>\n",
       "      <th>URL</th>\n",
       "      <th>is_drug_trial</th>\n",
       "    </tr>\n",
       "    <tr>\n",
       "      <th>target</th>\n",
       "      <th></th>\n",
       "      <th></th>\n",
       "      <th></th>\n",
       "      <th></th>\n",
       "      <th></th>\n",
       "      <th></th>\n",
       "      <th></th>\n",
       "      <th></th>\n",
       "      <th></th>\n",
       "      <th></th>\n",
       "      <th></th>\n",
       "      <th></th>\n",
       "      <th></th>\n",
       "      <th></th>\n",
       "      <th></th>\n",
       "      <th></th>\n",
       "      <th></th>\n",
       "      <th></th>\n",
       "      <th></th>\n",
       "      <th></th>\n",
       "      <th></th>\n",
       "    </tr>\n",
       "  </thead>\n",
       "  <tbody>\n",
       "    <tr>\n",
       "      <th>0</th>\n",
       "      <td>2334</td>\n",
       "      <td>2334</td>\n",
       "      <td>2334</td>\n",
       "      <td>821</td>\n",
       "      <td>2334</td>\n",
       "      <td>2334</td>\n",
       "      <td>2334</td>\n",
       "      <td>2334</td>\n",
       "      <td>2332</td>\n",
       "      <td>2334</td>\n",
       "      <td>...</td>\n",
       "      <td>2332</td>\n",
       "      <td>2327</td>\n",
       "      <td>2296</td>\n",
       "      <td>2334</td>\n",
       "      <td>590</td>\n",
       "      <td>2334</td>\n",
       "      <td>2243</td>\n",
       "      <td>188</td>\n",
       "      <td>2334</td>\n",
       "      <td>2334</td>\n",
       "    </tr>\n",
       "    <tr>\n",
       "      <th>1</th>\n",
       "      <td>3507</td>\n",
       "      <td>3507</td>\n",
       "      <td>3507</td>\n",
       "      <td>698</td>\n",
       "      <td>3507</td>\n",
       "      <td>3507</td>\n",
       "      <td>3507</td>\n",
       "      <td>3507</td>\n",
       "      <td>3507</td>\n",
       "      <td>3507</td>\n",
       "      <td>...</td>\n",
       "      <td>3507</td>\n",
       "      <td>3507</td>\n",
       "      <td>3506</td>\n",
       "      <td>3507</td>\n",
       "      <td>67</td>\n",
       "      <td>3507</td>\n",
       "      <td>2851</td>\n",
       "      <td>256</td>\n",
       "      <td>3507</td>\n",
       "      <td>3507</td>\n",
       "    </tr>\n",
       "  </tbody>\n",
       "</table>\n",
       "<p>2 rows × 28 columns</p>\n",
       "</div>"
      ],
      "text/plain": [
       "        Rank  NCT Number  Title  Acronym  Status  Study Results  Conditions  \\\n",
       "target                                                                        \n",
       "0       2334        2334   2334      821    2334           2334        2334   \n",
       "1       3507        3507   3507      698    3507           3507        3507   \n",
       "\n",
       "        Interventions  Outcome Measures  Sponsor/Collaborators  ...  \\\n",
       "target                                                          ...   \n",
       "0                2334              2332                   2334  ...   \n",
       "1                3507              3507                   3507  ...   \n",
       "\n",
       "        Start Date  Primary Completion Date  Completion Date  First Posted  \\\n",
       "target                                                                       \n",
       "0             2332                     2327             2296          2334   \n",
       "1             3507                     3507             3506          3507   \n",
       "\n",
       "        Results First Posted  Last Update Posted  Locations  Study Documents  \\\n",
       "target                                                                         \n",
       "0                        590                2334       2243              188   \n",
       "1                         67                3507       2851              256   \n",
       "\n",
       "         URL  is_drug_trial  \n",
       "target                       \n",
       "0       2334           2334  \n",
       "1       3507           3507  \n",
       "\n",
       "[2 rows x 28 columns]"
      ]
     },
     "execution_count": 12,
     "metadata": {},
     "output_type": "execute_result"
    }
   ],
   "source": [
    "industry_select = total[total['Funded Bys'].apply(lambda x: True if x == 'Other' else False) == True]\n",
    "industry_select.groupby('target').count()"
   ]
  },
  {
   "cell_type": "code",
   "execution_count": null,
   "metadata": {},
   "outputs": [],
   "source": []
  },
  {
   "cell_type": "code",
   "execution_count": null,
   "metadata": {},
   "outputs": [],
   "source": []
  }
 ],
 "metadata": {
  "kernelspec": {
   "display_name": "Python 3",
   "language": "python",
   "name": "python3"
  },
  "language_info": {
   "codemirror_mode": {
    "name": "ipython",
    "version": 3
   },
   "file_extension": ".py",
   "mimetype": "text/x-python",
   "name": "python",
   "nbconvert_exporter": "python",
   "pygments_lexer": "ipython3",
   "version": "3.7.6"
  }
 },
 "nbformat": 4,
 "nbformat_minor": 2
}

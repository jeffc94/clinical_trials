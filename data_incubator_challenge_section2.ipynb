{
 "cells": [
  {
   "cell_type": "code",
   "execution_count": 1,
   "metadata": {},
   "outputs": [],
   "source": [
    "import pandas as pd\n",
    "import numpy as np\n",
    "from matplotlib import pyplot as plt\n",
    "%matplotlib inline\n",
    "\n",
    "data = pd.read_csv('PartD_Prescriber_PUF_NPI_17.txt', sep='\\t')"
   ]
  },
  {
   "cell_type": "code",
   "execution_count": 2,
   "metadata": {},
   "outputs": [
    {
     "data": {
      "text/html": [
       "<div>\n",
       "<style scoped>\n",
       "    .dataframe tbody tr th:only-of-type {\n",
       "        vertical-align: middle;\n",
       "    }\n",
       "\n",
       "    .dataframe tbody tr th {\n",
       "        vertical-align: top;\n",
       "    }\n",
       "\n",
       "    .dataframe thead th {\n",
       "        text-align: right;\n",
       "    }\n",
       "</style>\n",
       "<table border=\"1\" class=\"dataframe\">\n",
       "  <thead>\n",
       "    <tr style=\"text-align: right;\">\n",
       "      <th></th>\n",
       "      <th>npi</th>\n",
       "      <th>nppes_provider_last_org_name</th>\n",
       "      <th>nppes_provider_first_name</th>\n",
       "      <th>nppes_provider_mi</th>\n",
       "      <th>nppes_credentials</th>\n",
       "      <th>nppes_provider_gender</th>\n",
       "      <th>nppes_entity_code</th>\n",
       "      <th>nppes_provider_street1</th>\n",
       "      <th>nppes_provider_street2</th>\n",
       "      <th>nppes_provider_city</th>\n",
       "      <th>...</th>\n",
       "      <th>beneficiary_male_count</th>\n",
       "      <th>beneficiary_race_white_count</th>\n",
       "      <th>beneficiary_race_black_count</th>\n",
       "      <th>beneficiary_race_asian_pi_count</th>\n",
       "      <th>beneficiary_race_hispanic_count</th>\n",
       "      <th>beneficiary_race_nat_ind_count</th>\n",
       "      <th>beneficiary_race_other_count</th>\n",
       "      <th>beneficiary_nondual_count</th>\n",
       "      <th>beneficiary_dual_count</th>\n",
       "      <th>beneficiary_average_risk_score</th>\n",
       "    </tr>\n",
       "  </thead>\n",
       "  <tbody>\n",
       "    <tr>\n",
       "      <th>0</th>\n",
       "      <td>1003000126</td>\n",
       "      <td>ENKESHAFI</td>\n",
       "      <td>ARDALAN</td>\n",
       "      <td>NaN</td>\n",
       "      <td>M.D.</td>\n",
       "      <td>M</td>\n",
       "      <td>I</td>\n",
       "      <td>900 SETON DR</td>\n",
       "      <td>NaN</td>\n",
       "      <td>CUMBERLAND</td>\n",
       "      <td>...</td>\n",
       "      <td>92.0</td>\n",
       "      <td>220.0</td>\n",
       "      <td>14.0</td>\n",
       "      <td>0.0</td>\n",
       "      <td>0.0</td>\n",
       "      <td>0.0</td>\n",
       "      <td>0.0</td>\n",
       "      <td>143.0</td>\n",
       "      <td>91.0</td>\n",
       "      <td>2.1685</td>\n",
       "    </tr>\n",
       "    <tr>\n",
       "      <th>1</th>\n",
       "      <td>1003000142</td>\n",
       "      <td>KHALIL</td>\n",
       "      <td>RASHID</td>\n",
       "      <td>NaN</td>\n",
       "      <td>M.D.</td>\n",
       "      <td>M</td>\n",
       "      <td>I</td>\n",
       "      <td>4126 N HOLLAND SYLVANIA RD</td>\n",
       "      <td>SUITE 220</td>\n",
       "      <td>TOLEDO</td>\n",
       "      <td>...</td>\n",
       "      <td>92.0</td>\n",
       "      <td>195.0</td>\n",
       "      <td>58.0</td>\n",
       "      <td>NaN</td>\n",
       "      <td>NaN</td>\n",
       "      <td>0.0</td>\n",
       "      <td>NaN</td>\n",
       "      <td>143.0</td>\n",
       "      <td>133.0</td>\n",
       "      <td>1.8029</td>\n",
       "    </tr>\n",
       "    <tr>\n",
       "      <th>2</th>\n",
       "      <td>1003000167</td>\n",
       "      <td>ESCOBAR</td>\n",
       "      <td>JULIO</td>\n",
       "      <td>E</td>\n",
       "      <td>DDS</td>\n",
       "      <td>M</td>\n",
       "      <td>I</td>\n",
       "      <td>5 PINE CONE RD</td>\n",
       "      <td>NaN</td>\n",
       "      <td>DAYTON</td>\n",
       "      <td>...</td>\n",
       "      <td>17.0</td>\n",
       "      <td>NaN</td>\n",
       "      <td>0.0</td>\n",
       "      <td>0.0</td>\n",
       "      <td>NaN</td>\n",
       "      <td>0.0</td>\n",
       "      <td>0.0</td>\n",
       "      <td>NaN</td>\n",
       "      <td>NaN</td>\n",
       "      <td>1.0598</td>\n",
       "    </tr>\n",
       "    <tr>\n",
       "      <th>3</th>\n",
       "      <td>1003000175</td>\n",
       "      <td>REYES-VASQUEZ</td>\n",
       "      <td>BELINDA</td>\n",
       "      <td>NaN</td>\n",
       "      <td>D.D.S.</td>\n",
       "      <td>F</td>\n",
       "      <td>I</td>\n",
       "      <td>322 N AZUSA AVE STE 202</td>\n",
       "      <td>NaN</td>\n",
       "      <td>LA PUENTE</td>\n",
       "      <td>...</td>\n",
       "      <td>NaN</td>\n",
       "      <td>NaN</td>\n",
       "      <td>NaN</td>\n",
       "      <td>NaN</td>\n",
       "      <td>NaN</td>\n",
       "      <td>NaN</td>\n",
       "      <td>NaN</td>\n",
       "      <td>NaN</td>\n",
       "      <td>NaN</td>\n",
       "      <td>NaN</td>\n",
       "    </tr>\n",
       "    <tr>\n",
       "      <th>4</th>\n",
       "      <td>1003000282</td>\n",
       "      <td>BLAKEMORE</td>\n",
       "      <td>ROSIE</td>\n",
       "      <td>K</td>\n",
       "      <td>FNP</td>\n",
       "      <td>F</td>\n",
       "      <td>I</td>\n",
       "      <td>TENNESSEE PRISON FOR WOMEN</td>\n",
       "      <td>3881 STEWARTS LANE</td>\n",
       "      <td>NASHVILLE</td>\n",
       "      <td>...</td>\n",
       "      <td>NaN</td>\n",
       "      <td>NaN</td>\n",
       "      <td>NaN</td>\n",
       "      <td>0.0</td>\n",
       "      <td>NaN</td>\n",
       "      <td>0.0</td>\n",
       "      <td>0.0</td>\n",
       "      <td>NaN</td>\n",
       "      <td>NaN</td>\n",
       "      <td>4.5148</td>\n",
       "    </tr>\n",
       "  </tbody>\n",
       "</table>\n",
       "<p>5 rows × 84 columns</p>\n",
       "</div>"
      ],
      "text/plain": [
       "          npi nppes_provider_last_org_name nppes_provider_first_name  \\\n",
       "0  1003000126                    ENKESHAFI                   ARDALAN   \n",
       "1  1003000142                       KHALIL                    RASHID   \n",
       "2  1003000167                      ESCOBAR                     JULIO   \n",
       "3  1003000175                REYES-VASQUEZ                   BELINDA   \n",
       "4  1003000282                    BLAKEMORE                     ROSIE   \n",
       "\n",
       "  nppes_provider_mi nppes_credentials nppes_provider_gender nppes_entity_code  \\\n",
       "0               NaN              M.D.                     M                 I   \n",
       "1               NaN              M.D.                     M                 I   \n",
       "2                 E               DDS                     M                 I   \n",
       "3               NaN            D.D.S.                     F                 I   \n",
       "4                 K               FNP                     F                 I   \n",
       "\n",
       "       nppes_provider_street1 nppes_provider_street2 nppes_provider_city  ...  \\\n",
       "0                900 SETON DR                    NaN          CUMBERLAND  ...   \n",
       "1  4126 N HOLLAND SYLVANIA RD              SUITE 220              TOLEDO  ...   \n",
       "2              5 PINE CONE RD                    NaN              DAYTON  ...   \n",
       "3     322 N AZUSA AVE STE 202                    NaN           LA PUENTE  ...   \n",
       "4  TENNESSEE PRISON FOR WOMEN     3881 STEWARTS LANE           NASHVILLE  ...   \n",
       "\n",
       "   beneficiary_male_count  beneficiary_race_white_count  \\\n",
       "0                    92.0                         220.0   \n",
       "1                    92.0                         195.0   \n",
       "2                    17.0                           NaN   \n",
       "3                     NaN                           NaN   \n",
       "4                     NaN                           NaN   \n",
       "\n",
       "  beneficiary_race_black_count beneficiary_race_asian_pi_count  \\\n",
       "0                         14.0                             0.0   \n",
       "1                         58.0                             NaN   \n",
       "2                          0.0                             0.0   \n",
       "3                          NaN                             NaN   \n",
       "4                          NaN                             0.0   \n",
       "\n",
       "  beneficiary_race_hispanic_count beneficiary_race_nat_ind_count  \\\n",
       "0                             0.0                            0.0   \n",
       "1                             NaN                            0.0   \n",
       "2                             NaN                            0.0   \n",
       "3                             NaN                            NaN   \n",
       "4                             NaN                            0.0   \n",
       "\n",
       "  beneficiary_race_other_count  beneficiary_nondual_count  \\\n",
       "0                          0.0                      143.0   \n",
       "1                          NaN                      143.0   \n",
       "2                          0.0                        NaN   \n",
       "3                          NaN                        NaN   \n",
       "4                          0.0                        NaN   \n",
       "\n",
       "   beneficiary_dual_count  beneficiary_average_risk_score  \n",
       "0                    91.0                          2.1685  \n",
       "1                   133.0                          1.8029  \n",
       "2                     NaN                          1.0598  \n",
       "3                     NaN                             NaN  \n",
       "4                     NaN                          4.5148  \n",
       "\n",
       "[5 rows x 84 columns]"
      ]
     },
     "execution_count": 2,
     "metadata": {},
     "output_type": "execute_result"
    }
   ],
   "source": [
    "data.head()"
   ]
  },
  {
   "cell_type": "code",
   "execution_count": 3,
   "metadata": {},
   "outputs": [
    {
     "data": {
      "text/plain": [
       "npi                                    0\n",
       "nppes_provider_last_org_name          34\n",
       "nppes_provider_first_name             22\n",
       "nppes_provider_mi                 361527\n",
       "nppes_credentials                  70738\n",
       "                                   ...  \n",
       "beneficiary_race_nat_ind_count    320905\n",
       "beneficiary_race_other_count      816557\n",
       "beneficiary_nondual_count         479273\n",
       "beneficiary_dual_count            479273\n",
       "beneficiary_average_risk_score    131840\n",
       "Length: 84, dtype: int64"
      ]
     },
     "execution_count": 3,
     "metadata": {},
     "output_type": "execute_result"
    }
   ],
   "source": [
    "data.isnull().sum()"
   ]
  },
  {
   "cell_type": "code",
   "execution_count": 4,
   "metadata": {},
   "outputs": [
    {
     "data": {
      "text/plain": [
       "Index(['npi', 'nppes_provider_last_org_name', 'nppes_provider_first_name',\n",
       "       'nppes_provider_mi', 'nppes_credentials', 'nppes_provider_gender',\n",
       "       'nppes_entity_code', 'nppes_provider_street1', 'nppes_provider_street2',\n",
       "       'nppes_provider_city', 'nppes_provider_zip5', 'nppes_provider_zip4',\n",
       "       'nppes_provider_state', 'nppes_provider_country',\n",
       "       'specialty_description', 'description_flag',\n",
       "       'medicare_prvdr_enroll_status', 'total_claim_count',\n",
       "       'total_30_day_fill_count', 'total_drug_cost', 'total_day_supply',\n",
       "       'bene_count', 'ge65_suppress_flag', 'total_claim_count_ge65',\n",
       "       'total_30_day_fill_count_ge65', 'total_drug_cost_ge65',\n",
       "       'total_day_supply_ge65', 'bene_count_ge65_suppress_flag',\n",
       "       'bene_count_ge65', 'brand_suppress_flag', 'brand_claim_count',\n",
       "       'brand_drug_cost', 'generic_suppress_flag', 'generic_claim_count',\n",
       "       'generic_drug_cost', 'other_suppress_flag', 'other_claim_count',\n",
       "       'other_drug_cost', 'mapd_suppress_flag', 'mapd_claim_count',\n",
       "       'mapd_drug_cost', 'pdp_suppress_flag', 'pdp_claim_count',\n",
       "       'pdp_drug_cost', 'lis_suppress_flag', 'lis_claim_count',\n",
       "       'lis_drug_cost', 'nonlis_suppress_flag', 'nonlis_claim_count',\n",
       "       'nonlis_drug_cost', 'opioid_claim_count', 'opioid_drug_cost',\n",
       "       'opioid_day_supply', 'opioid_bene_count', 'opioid_prescriber_rate',\n",
       "       'la_opioid_claim_count', 'la_opioid_drug_cost', 'la_opioid_day_supply',\n",
       "       'la_opioid_bene_count', 'la_opioid_prescriber_rate',\n",
       "       'antibiotic_claim_count', 'antibiotic_drug_cost',\n",
       "       'antibiotic_bene_count', 'antipsych_ge65_suppress_flag',\n",
       "       'antipsych_claim_count_ge65', 'antipsych_drug_cost_ge65',\n",
       "       'antipsych_bene_ge65_suppress_flg', 'antipsych_bene_count_ge65',\n",
       "       'average_age_of_beneficiaries', 'beneficiary_age_less_65_count',\n",
       "       'beneficiary_age_65_74_count', 'beneficiary_age_75_84_count',\n",
       "       'beneficiary_age_greater_84_count', 'beneficiary_female_count',\n",
       "       'beneficiary_male_count', 'beneficiary_race_white_count',\n",
       "       'beneficiary_race_black_count', 'beneficiary_race_asian_pi_count',\n",
       "       'beneficiary_race_hispanic_count', 'beneficiary_race_nat_ind_count',\n",
       "       'beneficiary_race_other_count', 'beneficiary_nondual_count',\n",
       "       'beneficiary_dual_count', 'beneficiary_average_risk_score'],\n",
       "      dtype='object')"
      ]
     },
     "execution_count": 4,
     "metadata": {},
     "output_type": "execute_result"
    }
   ],
   "source": [
    "data.columns"
   ]
  },
  {
   "cell_type": "markdown",
   "metadata": {},
   "source": [
    "# Q1"
   ]
  },
  {
   "cell_type": "code",
   "execution_count": 5,
   "metadata": {},
   "outputs": [
    {
     "data": {
      "text/plain": [
       "158.3494585173676"
      ]
     },
     "execution_count": 5,
     "metadata": {},
     "output_type": "execute_result"
    }
   ],
   "source": [
    "data.bene_count.mean()"
   ]
  },
  {
   "cell_type": "code",
   "execution_count": 6,
   "metadata": {},
   "outputs": [
    {
     "data": {
      "text/plain": [
       "0"
      ]
     },
     "execution_count": 6,
     "metadata": {},
     "output_type": "execute_result"
    }
   ],
   "source": [
    "data.isnull().sum()['total_claim_count']"
   ]
  },
  {
   "cell_type": "code",
   "execution_count": 7,
   "metadata": {},
   "outputs": [
    {
     "data": {
      "text/plain": [
       "True"
      ]
     },
     "execution_count": 7,
     "metadata": {},
     "output_type": "execute_result"
    }
   ],
   "source": [
    "data.npi.nunique() == len(data)"
   ]
  },
  {
   "cell_type": "markdown",
   "metadata": {},
   "source": [
    "# Q2"
   ]
  },
  {
   "cell_type": "code",
   "execution_count": 8,
   "metadata": {},
   "outputs": [
    {
     "name": "stdout",
     "output_type": "stream",
     "text": [
      "1284.9854484228194\n"
     ]
    }
   ],
   "source": [
    "total_claim_count = np.array(data.total_claim_count.values)\n",
    "print(np.nanmean(total_claim_count))"
   ]
  },
  {
   "cell_type": "code",
   "execution_count": 9,
   "metadata": {},
   "outputs": [
    {
     "name": "stdout",
     "output_type": "stream",
     "text": [
      "55492.33948549228\n"
     ]
    }
   ],
   "source": [
    "total_day_supply = np.array(data.total_day_supply.values)\n",
    "print(np.nanmean(total_day_supply))"
   ]
  },
  {
   "cell_type": "code",
   "execution_count": 10,
   "metadata": {},
   "outputs": [],
   "source": [
    "len_prescrip = []\n",
    "for x, y in zip(total_claim_count, total_day_supply):\n",
    "    len_prescrip.append(y/x)"
   ]
  },
  {
   "cell_type": "code",
   "execution_count": 11,
   "metadata": {},
   "outputs": [
    {
     "name": "stdout",
     "output_type": "stream",
     "text": [
      "29.7125748502994\n"
     ]
    }
   ],
   "source": [
    "print(np.median(len_prescrip))"
   ]
  },
  {
   "cell_type": "markdown",
   "metadata": {},
   "source": [
    "# Q3"
   ]
  },
  {
   "cell_type": "code",
   "execution_count": 12,
   "metadata": {},
   "outputs": [
    {
     "data": {
      "text/plain": [
       "0"
      ]
     },
     "execution_count": 12,
     "metadata": {},
     "output_type": "execute_result"
    }
   ],
   "source": [
    "brand_claim_count = data.brand_claim_count\n",
    "generic_claim_count = data.generic_claim_count\n",
    "other_claim_count = data.other_claim_count\n",
    "data.specialty_description.isnull().sum()"
   ]
  },
  {
   "cell_type": "code",
   "execution_count": 13,
   "metadata": {},
   "outputs": [
    {
     "data": {
      "text/plain": [
       "214"
      ]
     },
     "execution_count": 13,
     "metadata": {},
     "output_type": "execute_result"
    }
   ],
   "source": [
    "data.specialty_description.nunique()"
   ]
  },
  {
   "cell_type": "code",
   "execution_count": 14,
   "metadata": {},
   "outputs": [
    {
     "data": {
      "text/plain": [
       "specialty_description\n",
       "Acupuncturist                                           626.0\n",
       "Addiction Medicine                                    44917.0\n",
       "Adult Companion                                           0.0\n",
       "Advanced Heart Failure and Transplant Cardiology        803.0\n",
       "Advanced Practice Dental Therapist                        0.0\n",
       "                                                      ...    \n",
       "Unknown Supplier/Provider Specialty                     265.0\n",
       "Urology                                             1089548.0\n",
       "Vascular Surgery                                      64906.0\n",
       "Veterinarian                                              0.0\n",
       "Voluntary Health or Charitable Agency                     0.0\n",
       "Name: brand_claim_count, Length: 214, dtype: float64"
      ]
     },
     "execution_count": 14,
     "metadata": {},
     "output_type": "execute_result"
    }
   ],
   "source": [
    "data.groupby('specialty_description')['brand_claim_count'].sum()"
   ]
  },
  {
   "cell_type": "code",
   "execution_count": 15,
   "metadata": {},
   "outputs": [
    {
     "data": {
      "text/html": [
       "<div>\n",
       "<style scoped>\n",
       "    .dataframe tbody tr th:only-of-type {\n",
       "        vertical-align: middle;\n",
       "    }\n",
       "\n",
       "    .dataframe tbody tr th {\n",
       "        vertical-align: top;\n",
       "    }\n",
       "\n",
       "    .dataframe thead th {\n",
       "        text-align: right;\n",
       "    }\n",
       "</style>\n",
       "<table border=\"1\" class=\"dataframe\">\n",
       "  <thead>\n",
       "    <tr style=\"text-align: right;\">\n",
       "      <th></th>\n",
       "      <th>specialty_description</th>\n",
       "      <th>brand_claim_count</th>\n",
       "      <th>generic_claim_count</th>\n",
       "      <th>other_claim_count</th>\n",
       "      <th>bene_count</th>\n",
       "    </tr>\n",
       "  </thead>\n",
       "  <tbody>\n",
       "    <tr>\n",
       "      <th>0</th>\n",
       "      <td>Acupuncturist</td>\n",
       "      <td>626.0</td>\n",
       "      <td>4090.0</td>\n",
       "      <td>11.0</td>\n",
       "      <td>1322.0</td>\n",
       "    </tr>\n",
       "    <tr>\n",
       "      <th>1</th>\n",
       "      <td>Addiction Medicine</td>\n",
       "      <td>44917.0</td>\n",
       "      <td>168588.0</td>\n",
       "      <td>786.0</td>\n",
       "      <td>18551.0</td>\n",
       "    </tr>\n",
       "    <tr>\n",
       "      <th>2</th>\n",
       "      <td>Adult Companion</td>\n",
       "      <td>0.0</td>\n",
       "      <td>326.0</td>\n",
       "      <td>0.0</td>\n",
       "      <td>90.0</td>\n",
       "    </tr>\n",
       "    <tr>\n",
       "      <th>3</th>\n",
       "      <td>Advanced Heart Failure and Transplant Cardiology</td>\n",
       "      <td>803.0</td>\n",
       "      <td>4474.0</td>\n",
       "      <td>22.0</td>\n",
       "      <td>1536.0</td>\n",
       "    </tr>\n",
       "    <tr>\n",
       "      <th>4</th>\n",
       "      <td>Advanced Practice Dental Therapist</td>\n",
       "      <td>0.0</td>\n",
       "      <td>59.0</td>\n",
       "      <td>0.0</td>\n",
       "      <td>28.0</td>\n",
       "    </tr>\n",
       "  </tbody>\n",
       "</table>\n",
       "</div>"
      ],
      "text/plain": [
       "                              specialty_description  brand_claim_count  \\\n",
       "0                                     Acupuncturist              626.0   \n",
       "1                                Addiction Medicine            44917.0   \n",
       "2                                   Adult Companion                0.0   \n",
       "3  Advanced Heart Failure and Transplant Cardiology              803.0   \n",
       "4                Advanced Practice Dental Therapist                0.0   \n",
       "\n",
       "   generic_claim_count  other_claim_count  bene_count  \n",
       "0               4090.0               11.0      1322.0  \n",
       "1             168588.0              786.0     18551.0  \n",
       "2                326.0                0.0        90.0  \n",
       "3               4474.0               22.0      1536.0  \n",
       "4                 59.0                0.0        28.0  "
      ]
     },
     "execution_count": 15,
     "metadata": {},
     "output_type": "execute_result"
    }
   ],
   "source": [
    "specialty_grouped = data.groupby('specialty_description').agg({'brand_claim_count':'sum','generic_claim_count':'sum',\n",
    "                                           'other_claim_count':'sum','bene_count':'sum'}).reset_index()\n",
    "specialty_grouped.head()"
   ]
  },
  {
   "cell_type": "code",
   "execution_count": 16,
   "metadata": {},
   "outputs": [
    {
     "data": {
      "text/plain": [
       "specialty_description    0\n",
       "brand_claim_count        0\n",
       "generic_claim_count      0\n",
       "other_claim_count        0\n",
       "bene_count               0\n",
       "dtype: int64"
      ]
     },
     "execution_count": 16,
     "metadata": {},
     "output_type": "execute_result"
    }
   ],
   "source": [
    "specialty_grouped.isnull().sum()"
   ]
  },
  {
   "cell_type": "code",
   "execution_count": 17,
   "metadata": {},
   "outputs": [
    {
     "name": "stdout",
     "output_type": "stream",
     "text": [
      "100\n"
     ]
    }
   ],
   "source": [
    "specialty_included = specialty_grouped[specialty_grouped['bene_count'] > 1000].copy()\n",
    "print(len(specialty_included))"
   ]
  },
  {
   "cell_type": "code",
   "execution_count": 18,
   "metadata": {},
   "outputs": [
    {
     "data": {
      "text/html": [
       "<div>\n",
       "<style scoped>\n",
       "    .dataframe tbody tr th:only-of-type {\n",
       "        vertical-align: middle;\n",
       "    }\n",
       "\n",
       "    .dataframe tbody tr th {\n",
       "        vertical-align: top;\n",
       "    }\n",
       "\n",
       "    .dataframe thead th {\n",
       "        text-align: right;\n",
       "    }\n",
       "</style>\n",
       "<table border=\"1\" class=\"dataframe\">\n",
       "  <thead>\n",
       "    <tr style=\"text-align: right;\">\n",
       "      <th></th>\n",
       "      <th>specialty_description</th>\n",
       "      <th>brand_claim_count</th>\n",
       "      <th>generic_claim_count</th>\n",
       "      <th>other_claim_count</th>\n",
       "      <th>bene_count</th>\n",
       "      <th>percent_brand</th>\n",
       "    </tr>\n",
       "  </thead>\n",
       "  <tbody>\n",
       "    <tr>\n",
       "      <th>0</th>\n",
       "      <td>Acupuncturist</td>\n",
       "      <td>626.0</td>\n",
       "      <td>4090.0</td>\n",
       "      <td>11.0</td>\n",
       "      <td>1322.0</td>\n",
       "      <td>0.132431</td>\n",
       "    </tr>\n",
       "    <tr>\n",
       "      <th>1</th>\n",
       "      <td>Addiction Medicine</td>\n",
       "      <td>44917.0</td>\n",
       "      <td>168588.0</td>\n",
       "      <td>786.0</td>\n",
       "      <td>18551.0</td>\n",
       "      <td>0.209607</td>\n",
       "    </tr>\n",
       "    <tr>\n",
       "      <th>3</th>\n",
       "      <td>Advanced Heart Failure and Transplant Cardiology</td>\n",
       "      <td>803.0</td>\n",
       "      <td>4474.0</td>\n",
       "      <td>22.0</td>\n",
       "      <td>1536.0</td>\n",
       "      <td>0.151538</td>\n",
       "    </tr>\n",
       "    <tr>\n",
       "      <th>5</th>\n",
       "      <td>Allergy/ Immunology</td>\n",
       "      <td>883748.0</td>\n",
       "      <td>1845530.0</td>\n",
       "      <td>2806.0</td>\n",
       "      <td>473535.0</td>\n",
       "      <td>0.323470</td>\n",
       "    </tr>\n",
       "    <tr>\n",
       "      <th>7</th>\n",
       "      <td>Anesthesiology</td>\n",
       "      <td>503470.0</td>\n",
       "      <td>4583994.0</td>\n",
       "      <td>2123.0</td>\n",
       "      <td>691131.0</td>\n",
       "      <td>0.098922</td>\n",
       "    </tr>\n",
       "  </tbody>\n",
       "</table>\n",
       "</div>"
      ],
      "text/plain": [
       "                              specialty_description  brand_claim_count  \\\n",
       "0                                     Acupuncturist              626.0   \n",
       "1                                Addiction Medicine            44917.0   \n",
       "3  Advanced Heart Failure and Transplant Cardiology              803.0   \n",
       "5                               Allergy/ Immunology           883748.0   \n",
       "7                                    Anesthesiology           503470.0   \n",
       "\n",
       "   generic_claim_count  other_claim_count  bene_count  percent_brand  \n",
       "0               4090.0               11.0      1322.0       0.132431  \n",
       "1             168588.0              786.0     18551.0       0.209607  \n",
       "3               4474.0               22.0      1536.0       0.151538  \n",
       "5            1845530.0             2806.0    473535.0       0.323470  \n",
       "7            4583994.0             2123.0    691131.0       0.098922  "
      ]
     },
     "execution_count": 18,
     "metadata": {},
     "output_type": "execute_result"
    }
   ],
   "source": [
    "specialty_included['percent_brand'] = specialty_included['brand_claim_count'] / (specialty_included.brand_claim_count+\n",
    "                                                                                specialty_included.generic_claim_count\n",
    "                                                                                +specialty_included.other_claim_count)\n",
    "specialty_included.head()"
   ]
  },
  {
   "cell_type": "code",
   "execution_count": 19,
   "metadata": {},
   "outputs": [
    {
     "name": "stdout",
     "output_type": "stream",
     "text": [
      "0.09328211019021185\n"
     ]
    }
   ],
   "source": [
    "print(np.std(specialty_included['percent_brand']))"
   ]
  },
  {
   "cell_type": "markdown",
   "metadata": {},
   "source": [
    "# Q4"
   ]
  },
  {
   "cell_type": "code",
   "execution_count": 20,
   "metadata": {},
   "outputs": [
    {
     "data": {
      "text/plain": [
       "387434"
      ]
     },
     "execution_count": 20,
     "metadata": {},
     "output_type": "execute_result"
    }
   ],
   "source": [
    "opioid_bene_count = data.opioid_bene_count\n",
    "antibiotic_bene_count = data.antibiotic_bene_count\n",
    "data.opioid_bene_count.isnull().sum()"
   ]
  },
  {
   "cell_type": "code",
   "execution_count": 21,
   "metadata": {},
   "outputs": [
    {
     "data": {
      "text/html": [
       "<div>\n",
       "<style scoped>\n",
       "    .dataframe tbody tr th:only-of-type {\n",
       "        vertical-align: middle;\n",
       "    }\n",
       "\n",
       "    .dataframe tbody tr th {\n",
       "        vertical-align: top;\n",
       "    }\n",
       "\n",
       "    .dataframe thead th {\n",
       "        text-align: right;\n",
       "    }\n",
       "</style>\n",
       "<table border=\"1\" class=\"dataframe\">\n",
       "  <thead>\n",
       "    <tr style=\"text-align: right;\">\n",
       "      <th></th>\n",
       "      <th>opioid_bene_count</th>\n",
       "      <th>antibiotic_bene_count</th>\n",
       "    </tr>\n",
       "    <tr>\n",
       "      <th>nppes_provider_state</th>\n",
       "      <th></th>\n",
       "      <th></th>\n",
       "    </tr>\n",
       "  </thead>\n",
       "  <tbody>\n",
       "    <tr>\n",
       "      <th>AA</th>\n",
       "      <td>145.0</td>\n",
       "      <td>496.0</td>\n",
       "    </tr>\n",
       "    <tr>\n",
       "      <th>AE</th>\n",
       "      <td>982.0</td>\n",
       "      <td>1986.0</td>\n",
       "    </tr>\n",
       "    <tr>\n",
       "      <th>AK</th>\n",
       "      <td>20045.0</td>\n",
       "      <td>25223.0</td>\n",
       "    </tr>\n",
       "    <tr>\n",
       "      <th>AL</th>\n",
       "      <td>539041.0</td>\n",
       "      <td>763225.0</td>\n",
       "    </tr>\n",
       "    <tr>\n",
       "      <th>AP</th>\n",
       "      <td>688.0</td>\n",
       "      <td>1627.0</td>\n",
       "    </tr>\n",
       "  </tbody>\n",
       "</table>\n",
       "</div>"
      ],
      "text/plain": [
       "                      opioid_bene_count  antibiotic_bene_count\n",
       "nppes_provider_state                                          \n",
       "AA                                145.0                  496.0\n",
       "AE                                982.0                 1986.0\n",
       "AK                              20045.0                25223.0\n",
       "AL                             539041.0               763225.0\n",
       "AP                                688.0                 1627.0"
      ]
     },
     "execution_count": 21,
     "metadata": {},
     "output_type": "execute_result"
    }
   ],
   "source": [
    "drug_type_group = data.groupby('nppes_provider_state').agg({'opioid_bene_count':'sum','antibiotic_bene_count':'sum'})\n",
    "drug_type_group.head()"
   ]
  },
  {
   "cell_type": "code",
   "execution_count": 22,
   "metadata": {},
   "outputs": [
    {
     "data": {
      "text/plain": [
       "opioid_bene_count        0\n",
       "antibiotic_bene_count    0\n",
       "dtype: int64"
      ]
     },
     "execution_count": 22,
     "metadata": {},
     "output_type": "execute_result"
    }
   ],
   "source": [
    "drug_type_group.isnull().sum()"
   ]
  },
  {
   "cell_type": "code",
   "execution_count": 23,
   "metadata": {},
   "outputs": [
    {
     "data": {
      "text/html": [
       "<div>\n",
       "<style scoped>\n",
       "    .dataframe tbody tr th:only-of-type {\n",
       "        vertical-align: middle;\n",
       "    }\n",
       "\n",
       "    .dataframe tbody tr th {\n",
       "        vertical-align: top;\n",
       "    }\n",
       "\n",
       "    .dataframe thead th {\n",
       "        text-align: right;\n",
       "    }\n",
       "</style>\n",
       "<table border=\"1\" class=\"dataframe\">\n",
       "  <thead>\n",
       "    <tr style=\"text-align: right;\">\n",
       "      <th></th>\n",
       "      <th>opioid_bene_count</th>\n",
       "      <th>antibiotic_bene_count</th>\n",
       "      <th>ratio</th>\n",
       "    </tr>\n",
       "    <tr>\n",
       "      <th>nppes_provider_state</th>\n",
       "      <th></th>\n",
       "      <th></th>\n",
       "      <th></th>\n",
       "    </tr>\n",
       "  </thead>\n",
       "  <tbody>\n",
       "    <tr>\n",
       "      <th>AA</th>\n",
       "      <td>145.0</td>\n",
       "      <td>496.0</td>\n",
       "      <td>0.292339</td>\n",
       "    </tr>\n",
       "    <tr>\n",
       "      <th>AE</th>\n",
       "      <td>982.0</td>\n",
       "      <td>1986.0</td>\n",
       "      <td>0.494461</td>\n",
       "    </tr>\n",
       "    <tr>\n",
       "      <th>AK</th>\n",
       "      <td>20045.0</td>\n",
       "      <td>25223.0</td>\n",
       "      <td>0.794711</td>\n",
       "    </tr>\n",
       "    <tr>\n",
       "      <th>AL</th>\n",
       "      <td>539041.0</td>\n",
       "      <td>763225.0</td>\n",
       "      <td>0.706267</td>\n",
       "    </tr>\n",
       "    <tr>\n",
       "      <th>AP</th>\n",
       "      <td>688.0</td>\n",
       "      <td>1627.0</td>\n",
       "      <td>0.422864</td>\n",
       "    </tr>\n",
       "  </tbody>\n",
       "</table>\n",
       "</div>"
      ],
      "text/plain": [
       "                      opioid_bene_count  antibiotic_bene_count     ratio\n",
       "nppes_provider_state                                                    \n",
       "AA                                145.0                  496.0  0.292339\n",
       "AE                                982.0                 1986.0  0.494461\n",
       "AK                              20045.0                25223.0  0.794711\n",
       "AL                             539041.0               763225.0  0.706267\n",
       "AP                                688.0                 1627.0  0.422864"
      ]
     },
     "execution_count": 23,
     "metadata": {},
     "output_type": "execute_result"
    }
   ],
   "source": [
    "drug_type_group['ratio'] = drug_type_group['opioid_bene_count'] / drug_type_group['antibiotic_bene_count']\n",
    "drug_type_group.head()"
   ]
  },
  {
   "cell_type": "code",
   "execution_count": 24,
   "metadata": {},
   "outputs": [
    {
     "data": {
      "text/html": [
       "<div>\n",
       "<style scoped>\n",
       "    .dataframe tbody tr th:only-of-type {\n",
       "        vertical-align: middle;\n",
       "    }\n",
       "\n",
       "    .dataframe tbody tr th {\n",
       "        vertical-align: top;\n",
       "    }\n",
       "\n",
       "    .dataframe thead th {\n",
       "        text-align: right;\n",
       "    }\n",
       "</style>\n",
       "<table border=\"1\" class=\"dataframe\">\n",
       "  <thead>\n",
       "    <tr style=\"text-align: right;\">\n",
       "      <th></th>\n",
       "      <th>opioid_bene_count</th>\n",
       "      <th>antibiotic_bene_count</th>\n",
       "      <th>ratio</th>\n",
       "    </tr>\n",
       "    <tr>\n",
       "      <th>nppes_provider_state</th>\n",
       "      <th></th>\n",
       "      <th></th>\n",
       "      <th></th>\n",
       "    </tr>\n",
       "  </thead>\n",
       "  <tbody>\n",
       "    <tr>\n",
       "      <th>MP</th>\n",
       "      <td>79.0</td>\n",
       "      <td>362.0</td>\n",
       "      <td>0.218232</td>\n",
       "    </tr>\n",
       "    <tr>\n",
       "      <th>AA</th>\n",
       "      <td>145.0</td>\n",
       "      <td>496.0</td>\n",
       "      <td>0.292339</td>\n",
       "    </tr>\n",
       "    <tr>\n",
       "      <th>PR</th>\n",
       "      <td>149199.0</td>\n",
       "      <td>497090.0</td>\n",
       "      <td>0.300145</td>\n",
       "    </tr>\n",
       "    <tr>\n",
       "      <th>VI</th>\n",
       "      <td>1179.0</td>\n",
       "      <td>3790.0</td>\n",
       "      <td>0.311082</td>\n",
       "    </tr>\n",
       "    <tr>\n",
       "      <th>GU</th>\n",
       "      <td>683.0</td>\n",
       "      <td>2191.0</td>\n",
       "      <td>0.311730</td>\n",
       "    </tr>\n",
       "    <tr>\n",
       "      <th>NY</th>\n",
       "      <td>899751.0</td>\n",
       "      <td>2221673.0</td>\n",
       "      <td>0.404988</td>\n",
       "    </tr>\n",
       "    <tr>\n",
       "      <th>AP</th>\n",
       "      <td>688.0</td>\n",
       "      <td>1627.0</td>\n",
       "      <td>0.422864</td>\n",
       "    </tr>\n",
       "    <tr>\n",
       "      <th>NJ</th>\n",
       "      <td>409489.0</td>\n",
       "      <td>964956.0</td>\n",
       "      <td>0.424360</td>\n",
       "    </tr>\n",
       "    <tr>\n",
       "      <th>HI</th>\n",
       "      <td>52100.0</td>\n",
       "      <td>114654.0</td>\n",
       "      <td>0.454411</td>\n",
       "    </tr>\n",
       "    <tr>\n",
       "      <th>VT</th>\n",
       "      <td>30361.0</td>\n",
       "      <td>65636.0</td>\n",
       "      <td>0.462566</td>\n",
       "    </tr>\n",
       "  </tbody>\n",
       "</table>\n",
       "</div>"
      ],
      "text/plain": [
       "                      opioid_bene_count  antibiotic_bene_count     ratio\n",
       "nppes_provider_state                                                    \n",
       "MP                                 79.0                  362.0  0.218232\n",
       "AA                                145.0                  496.0  0.292339\n",
       "PR                             149199.0               497090.0  0.300145\n",
       "VI                               1179.0                 3790.0  0.311082\n",
       "GU                                683.0                 2191.0  0.311730\n",
       "NY                             899751.0              2221673.0  0.404988\n",
       "AP                                688.0                 1627.0  0.422864\n",
       "NJ                             409489.0               964956.0  0.424360\n",
       "HI                              52100.0               114654.0  0.454411\n",
       "VT                              30361.0                65636.0  0.462566"
      ]
     },
     "execution_count": 24,
     "metadata": {},
     "output_type": "execute_result"
    }
   ],
   "source": [
    "drug_type_group.nsmallest(10, 'ratio')"
   ]
  },
  {
   "cell_type": "code",
   "execution_count": 25,
   "metadata": {
    "scrolled": true
   },
   "outputs": [
    {
     "name": "stdout",
     "output_type": "stream",
     "text": [
      "0.6331097230267027\n",
      "0.4463537244308209\n"
     ]
    }
   ],
   "source": [
    "print(max(drug_type_group['ratio']) - min(drug_type_group['ratio']))\n",
    "print(max(drug_type_group['ratio']) - drug_type_group.loc['NY'].ratio)"
   ]
  },
  {
   "cell_type": "markdown",
   "metadata": {},
   "source": [
    "# Q5"
   ]
  },
  {
   "cell_type": "code",
   "execution_count": 26,
   "metadata": {},
   "outputs": [
    {
     "name": "stdout",
     "output_type": "stream",
     "text": [
      "1162898\n"
     ]
    }
   ],
   "source": [
    "claim_split = data[['total_claim_count','total_claim_count_ge65','lis_claim_count']].copy()\n",
    "print(len(claim_split))"
   ]
  },
  {
   "cell_type": "code",
   "execution_count": 27,
   "metadata": {},
   "outputs": [],
   "source": [
    "claim_split.dropna(inplace=True)"
   ]
  },
  {
   "cell_type": "code",
   "execution_count": 28,
   "metadata": {},
   "outputs": [
    {
     "data": {
      "text/html": [
       "<div>\n",
       "<style scoped>\n",
       "    .dataframe tbody tr th:only-of-type {\n",
       "        vertical-align: middle;\n",
       "    }\n",
       "\n",
       "    .dataframe tbody tr th {\n",
       "        vertical-align: top;\n",
       "    }\n",
       "\n",
       "    .dataframe thead th {\n",
       "        text-align: right;\n",
       "    }\n",
       "</style>\n",
       "<table border=\"1\" class=\"dataframe\">\n",
       "  <thead>\n",
       "    <tr style=\"text-align: right;\">\n",
       "      <th></th>\n",
       "      <th>total_claim_count</th>\n",
       "      <th>total_claim_count_ge65</th>\n",
       "      <th>lis_claim_count</th>\n",
       "      <th>fraction_65</th>\n",
       "      <th>fraction_lis</th>\n",
       "    </tr>\n",
       "  </thead>\n",
       "  <tbody>\n",
       "    <tr>\n",
       "      <th>0</th>\n",
       "      <td>677</td>\n",
       "      <td>516.0</td>\n",
       "      <td>305.0</td>\n",
       "      <td>0.762186</td>\n",
       "      <td>0.450517</td>\n",
       "    </tr>\n",
       "    <tr>\n",
       "      <th>1</th>\n",
       "      <td>1946</td>\n",
       "      <td>881.0</td>\n",
       "      <td>1184.0</td>\n",
       "      <td>0.452724</td>\n",
       "      <td>0.608428</td>\n",
       "    </tr>\n",
       "    <tr>\n",
       "      <th>4</th>\n",
       "      <td>90</td>\n",
       "      <td>65.0</td>\n",
       "      <td>73.0</td>\n",
       "      <td>0.722222</td>\n",
       "      <td>0.811111</td>\n",
       "    </tr>\n",
       "    <tr>\n",
       "      <th>5</th>\n",
       "      <td>2788</td>\n",
       "      <td>2700.0</td>\n",
       "      <td>1990.0</td>\n",
       "      <td>0.968436</td>\n",
       "      <td>0.713773</td>\n",
       "    </tr>\n",
       "    <tr>\n",
       "      <th>6</th>\n",
       "      <td>200</td>\n",
       "      <td>118.0</td>\n",
       "      <td>70.0</td>\n",
       "      <td>0.590000</td>\n",
       "      <td>0.350000</td>\n",
       "    </tr>\n",
       "  </tbody>\n",
       "</table>\n",
       "</div>"
      ],
      "text/plain": [
       "   total_claim_count  total_claim_count_ge65  lis_claim_count  fraction_65  \\\n",
       "0                677                   516.0            305.0     0.762186   \n",
       "1               1946                   881.0           1184.0     0.452724   \n",
       "4                 90                    65.0             73.0     0.722222   \n",
       "5               2788                  2700.0           1990.0     0.968436   \n",
       "6                200                   118.0             70.0     0.590000   \n",
       "\n",
       "   fraction_lis  \n",
       "0      0.450517  \n",
       "1      0.608428  \n",
       "4      0.811111  \n",
       "5      0.713773  \n",
       "6      0.350000  "
      ]
     },
     "execution_count": 28,
     "metadata": {},
     "output_type": "execute_result"
    }
   ],
   "source": [
    "claim_split['fraction_65'] = claim_split['total_claim_count_ge65'] / claim_split['total_claim_count']\n",
    "claim_split['fraction_lis'] = claim_split['lis_claim_count'] / claim_split['total_claim_count']\n",
    "claim_split.head()"
   ]
  },
  {
   "cell_type": "code",
   "execution_count": 29,
   "metadata": {},
   "outputs": [
    {
     "name": "stdout",
     "output_type": "stream",
     "text": [
      "(-0.6389319595676839, 0.0)\n"
     ]
    }
   ],
   "source": [
    "from scipy.stats import pearsonr\n",
    "print(pearsonr(claim_split['fraction_65'], claim_split['fraction_lis']))"
   ]
  },
  {
   "cell_type": "markdown",
   "metadata": {},
   "source": [
    "# Q6"
   ]
  },
  {
   "cell_type": "code",
   "execution_count": 30,
   "metadata": {},
   "outputs": [],
   "source": [
    "state_spec_split = data.groupby(['nppes_provider_state','specialty_description']).agg({'npi':'count',\n",
    "                                                                                       'opioid_day_supply':'sum',\n",
    "                                                                                       'opioid_claim_count':'sum'})\n",
    "state_spec_split = state_spec_split[state_spec_split['npi'] > 100]"
   ]
  },
  {
   "cell_type": "code",
   "execution_count": 31,
   "metadata": {},
   "outputs": [
    {
     "data": {
      "text/html": [
       "<div>\n",
       "<style scoped>\n",
       "    .dataframe tbody tr th:only-of-type {\n",
       "        vertical-align: middle;\n",
       "    }\n",
       "\n",
       "    .dataframe tbody tr th {\n",
       "        vertical-align: top;\n",
       "    }\n",
       "\n",
       "    .dataframe thead th {\n",
       "        text-align: right;\n",
       "    }\n",
       "</style>\n",
       "<table border=\"1\" class=\"dataframe\">\n",
       "  <thead>\n",
       "    <tr style=\"text-align: right;\">\n",
       "      <th></th>\n",
       "      <th></th>\n",
       "      <th>npi</th>\n",
       "      <th>opioid_day_supply</th>\n",
       "      <th>opioid_claim_count</th>\n",
       "      <th>average_pres_len</th>\n",
       "    </tr>\n",
       "    <tr>\n",
       "      <th>nppes_provider_state</th>\n",
       "      <th>specialty_description</th>\n",
       "      <th></th>\n",
       "      <th></th>\n",
       "      <th></th>\n",
       "      <th></th>\n",
       "    </tr>\n",
       "  </thead>\n",
       "  <tbody>\n",
       "    <tr>\n",
       "      <th rowspan=\"5\" valign=\"top\">AK</th>\n",
       "      <th>Dentist</th>\n",
       "      <td>214</td>\n",
       "      <td>3636.0</td>\n",
       "      <td>1158.0</td>\n",
       "      <td>3.139896</td>\n",
       "    </tr>\n",
       "    <tr>\n",
       "      <th>Emergency Medicine</th>\n",
       "      <td>119</td>\n",
       "      <td>9269.0</td>\n",
       "      <td>2307.0</td>\n",
       "      <td>4.017772</td>\n",
       "    </tr>\n",
       "    <tr>\n",
       "      <th>Family Practice</th>\n",
       "      <td>458</td>\n",
       "      <td>539957.0</td>\n",
       "      <td>21067.0</td>\n",
       "      <td>25.630465</td>\n",
       "    </tr>\n",
       "    <tr>\n",
       "      <th>Internal Medicine</th>\n",
       "      <td>145</td>\n",
       "      <td>166433.0</td>\n",
       "      <td>7001.0</td>\n",
       "      <td>23.772747</td>\n",
       "    </tr>\n",
       "    <tr>\n",
       "      <th>Nurse Practitioner</th>\n",
       "      <td>379</td>\n",
       "      <td>312636.0</td>\n",
       "      <td>12978.0</td>\n",
       "      <td>24.089690</td>\n",
       "    </tr>\n",
       "    <tr>\n",
       "      <th>...</th>\n",
       "      <th>...</th>\n",
       "      <td>...</td>\n",
       "      <td>...</td>\n",
       "      <td>...</td>\n",
       "      <td>...</td>\n",
       "    </tr>\n",
       "    <tr>\n",
       "      <th rowspan=\"5\" valign=\"top\">WY</th>\n",
       "      <th>Dentist</th>\n",
       "      <td>233</td>\n",
       "      <td>3821.0</td>\n",
       "      <td>1231.0</td>\n",
       "      <td>3.103981</td>\n",
       "    </tr>\n",
       "    <tr>\n",
       "      <th>Family Practice</th>\n",
       "      <td>275</td>\n",
       "      <td>801537.0</td>\n",
       "      <td>34362.0</td>\n",
       "      <td>23.326262</td>\n",
       "    </tr>\n",
       "    <tr>\n",
       "      <th>Internal Medicine</th>\n",
       "      <td>116</td>\n",
       "      <td>305418.0</td>\n",
       "      <td>12924.0</td>\n",
       "      <td>23.631848</td>\n",
       "    </tr>\n",
       "    <tr>\n",
       "      <th>Nurse Practitioner</th>\n",
       "      <td>289</td>\n",
       "      <td>399267.0</td>\n",
       "      <td>16647.0</td>\n",
       "      <td>23.984321</td>\n",
       "    </tr>\n",
       "    <tr>\n",
       "      <th>Physician Assistant</th>\n",
       "      <td>208</td>\n",
       "      <td>332599.0</td>\n",
       "      <td>15589.0</td>\n",
       "      <td>21.335493</td>\n",
       "    </tr>\n",
       "  </tbody>\n",
       "</table>\n",
       "<p>1312 rows × 4 columns</p>\n",
       "</div>"
      ],
      "text/plain": [
       "                                            npi  opioid_day_supply  \\\n",
       "nppes_provider_state specialty_description                           \n",
       "AK                   Dentist                214             3636.0   \n",
       "                     Emergency Medicine     119             9269.0   \n",
       "                     Family Practice        458           539957.0   \n",
       "                     Internal Medicine      145           166433.0   \n",
       "                     Nurse Practitioner     379           312636.0   \n",
       "...                                         ...                ...   \n",
       "WY                   Dentist                233             3821.0   \n",
       "                     Family Practice        275           801537.0   \n",
       "                     Internal Medicine      116           305418.0   \n",
       "                     Nurse Practitioner     289           399267.0   \n",
       "                     Physician Assistant    208           332599.0   \n",
       "\n",
       "                                            opioid_claim_count  \\\n",
       "nppes_provider_state specialty_description                       \n",
       "AK                   Dentist                            1158.0   \n",
       "                     Emergency Medicine                 2307.0   \n",
       "                     Family Practice                   21067.0   \n",
       "                     Internal Medicine                  7001.0   \n",
       "                     Nurse Practitioner                12978.0   \n",
       "...                                                        ...   \n",
       "WY                   Dentist                            1231.0   \n",
       "                     Family Practice                   34362.0   \n",
       "                     Internal Medicine                 12924.0   \n",
       "                     Nurse Practitioner                16647.0   \n",
       "                     Physician Assistant               15589.0   \n",
       "\n",
       "                                            average_pres_len  \n",
       "nppes_provider_state specialty_description                    \n",
       "AK                   Dentist                        3.139896  \n",
       "                     Emergency Medicine             4.017772  \n",
       "                     Family Practice               25.630465  \n",
       "                     Internal Medicine             23.772747  \n",
       "                     Nurse Practitioner            24.089690  \n",
       "...                                                      ...  \n",
       "WY                   Dentist                        3.103981  \n",
       "                     Family Practice               23.326262  \n",
       "                     Internal Medicine             23.631848  \n",
       "                     Nurse Practitioner            23.984321  \n",
       "                     Physician Assistant           21.335493  \n",
       "\n",
       "[1312 rows x 4 columns]"
      ]
     },
     "execution_count": 31,
     "metadata": {},
     "output_type": "execute_result"
    }
   ],
   "source": [
    "state_spec_split.dropna(inplace=True)\n",
    "state_spec_split['average_pres_len'] = state_spec_split['opioid_day_supply'] / state_spec_split['opioid_claim_count']\n",
    "state_spec_split"
   ]
  },
  {
   "cell_type": "code",
   "execution_count": 32,
   "metadata": {},
   "outputs": [
    {
     "name": "stdout",
     "output_type": "stream",
     "text": [
      "32.57917240991308\n",
      "16.784123458533866\n",
      "1.3636363636363635\n",
      "12.308357202924837\n"
     ]
    }
   ],
   "source": [
    "print(max(state_spec_split['average_pres_len']))\n",
    "print(np.mean(state_spec_split['average_pres_len']))\n",
    "print(min(state_spec_split['average_pres_len']))\n",
    "print(np.mean(state_spec_split['average_pres_len'])/min(state_spec_split['average_pres_len']))"
   ]
  },
  {
   "cell_type": "markdown",
   "metadata": {},
   "source": [
    "# Q7"
   ]
  },
  {
   "cell_type": "code",
   "execution_count": 33,
   "metadata": {},
   "outputs": [],
   "source": [
    "data_2016 = pd.read_csv('PartD_Prescriber_PUF_NPI_16.txt', sep='\\t')"
   ]
  },
  {
   "cell_type": "code",
   "execution_count": 34,
   "metadata": {},
   "outputs": [
    {
     "data": {
      "text/html": [
       "<div>\n",
       "<style scoped>\n",
       "    .dataframe tbody tr th:only-of-type {\n",
       "        vertical-align: middle;\n",
       "    }\n",
       "\n",
       "    .dataframe tbody tr th {\n",
       "        vertical-align: top;\n",
       "    }\n",
       "\n",
       "    .dataframe thead th {\n",
       "        text-align: right;\n",
       "    }\n",
       "</style>\n",
       "<table border=\"1\" class=\"dataframe\">\n",
       "  <thead>\n",
       "    <tr style=\"text-align: right;\">\n",
       "      <th></th>\n",
       "      <th>npi2016</th>\n",
       "      <th>nppes_provider_last_org_name</th>\n",
       "      <th>nppes_provider_first_name</th>\n",
       "      <th>nppes_provider_mi</th>\n",
       "      <th>nppes_credentials</th>\n",
       "      <th>nppes_provider_gender</th>\n",
       "      <th>nppes_entity_code</th>\n",
       "      <th>nppes_provider_street1</th>\n",
       "      <th>nppes_provider_street2</th>\n",
       "      <th>nppes_provider_city</th>\n",
       "      <th>...</th>\n",
       "      <th>beneficiary_male_count</th>\n",
       "      <th>beneficiary_race_white_count</th>\n",
       "      <th>beneficiary_race_black_count</th>\n",
       "      <th>beneficiary_race_asian_pi_count</th>\n",
       "      <th>beneficiary_race_hispanic_count</th>\n",
       "      <th>beneficiary_race_nat_ind_count</th>\n",
       "      <th>beneficiary_race_other_count</th>\n",
       "      <th>beneficiary_nondual_count</th>\n",
       "      <th>beneficiary_dual_count</th>\n",
       "      <th>beneficiary_average_risk_score</th>\n",
       "    </tr>\n",
       "  </thead>\n",
       "  <tbody>\n",
       "    <tr>\n",
       "      <th>0</th>\n",
       "      <td>1003000126</td>\n",
       "      <td>ENKESHAFI</td>\n",
       "      <td>ARDALAN</td>\n",
       "      <td>NaN</td>\n",
       "      <td>M.D.</td>\n",
       "      <td>M</td>\n",
       "      <td>I</td>\n",
       "      <td>900 SETON DR</td>\n",
       "      <td>NaN</td>\n",
       "      <td>CUMBERLAND</td>\n",
       "      <td>...</td>\n",
       "      <td>80.0</td>\n",
       "      <td>153.0</td>\n",
       "      <td>NaN</td>\n",
       "      <td>0.0</td>\n",
       "      <td>NaN</td>\n",
       "      <td>0.0</td>\n",
       "      <td>NaN</td>\n",
       "      <td>102.0</td>\n",
       "      <td>68.0</td>\n",
       "      <td>2.1950</td>\n",
       "    </tr>\n",
       "    <tr>\n",
       "      <th>1</th>\n",
       "      <td>1003000142</td>\n",
       "      <td>KHALIL</td>\n",
       "      <td>RASHID</td>\n",
       "      <td>NaN</td>\n",
       "      <td>M.D.</td>\n",
       "      <td>M</td>\n",
       "      <td>I</td>\n",
       "      <td>4126 N HOLLAND SYLVANIA RD</td>\n",
       "      <td>SUITE 220</td>\n",
       "      <td>TOLEDO</td>\n",
       "      <td>...</td>\n",
       "      <td>88.0</td>\n",
       "      <td>159.0</td>\n",
       "      <td>54.0</td>\n",
       "      <td>NaN</td>\n",
       "      <td>NaN</td>\n",
       "      <td>0.0</td>\n",
       "      <td>NaN</td>\n",
       "      <td>108.0</td>\n",
       "      <td>117.0</td>\n",
       "      <td>1.8032</td>\n",
       "    </tr>\n",
       "    <tr>\n",
       "      <th>2</th>\n",
       "      <td>1003000167</td>\n",
       "      <td>ESCOBAR</td>\n",
       "      <td>JULIO</td>\n",
       "      <td>E</td>\n",
       "      <td>DDS</td>\n",
       "      <td>M</td>\n",
       "      <td>I</td>\n",
       "      <td>5 PINE CONE RD</td>\n",
       "      <td>NaN</td>\n",
       "      <td>DAYTON</td>\n",
       "      <td>...</td>\n",
       "      <td>12.0</td>\n",
       "      <td>NaN</td>\n",
       "      <td>0.0</td>\n",
       "      <td>NaN</td>\n",
       "      <td>0.0</td>\n",
       "      <td>0.0</td>\n",
       "      <td>0.0</td>\n",
       "      <td>NaN</td>\n",
       "      <td>NaN</td>\n",
       "      <td>1.0949</td>\n",
       "    </tr>\n",
       "    <tr>\n",
       "      <th>3</th>\n",
       "      <td>1003000282</td>\n",
       "      <td>BLAKEMORE</td>\n",
       "      <td>ROSIE</td>\n",
       "      <td>K</td>\n",
       "      <td>FNP</td>\n",
       "      <td>F</td>\n",
       "      <td>I</td>\n",
       "      <td>TENNESSEE PRISON FOR WOMEN</td>\n",
       "      <td>3881 STEWARTS LANE</td>\n",
       "      <td>NASHVILLE</td>\n",
       "      <td>...</td>\n",
       "      <td>11.0</td>\n",
       "      <td>NaN</td>\n",
       "      <td>NaN</td>\n",
       "      <td>0.0</td>\n",
       "      <td>0.0</td>\n",
       "      <td>0.0</td>\n",
       "      <td>0.0</td>\n",
       "      <td>NaN</td>\n",
       "      <td>NaN</td>\n",
       "      <td>1.7014</td>\n",
       "    </tr>\n",
       "    <tr>\n",
       "      <th>4</th>\n",
       "      <td>1003000407</td>\n",
       "      <td>GIRARDI</td>\n",
       "      <td>DAVID</td>\n",
       "      <td>J</td>\n",
       "      <td>D.O.</td>\n",
       "      <td>M</td>\n",
       "      <td>I</td>\n",
       "      <td>100 HOSPITAL RD</td>\n",
       "      <td>NaN</td>\n",
       "      <td>BROOKVILLE</td>\n",
       "      <td>...</td>\n",
       "      <td>64.0</td>\n",
       "      <td>NaN</td>\n",
       "      <td>NaN</td>\n",
       "      <td>0.0</td>\n",
       "      <td>0.0</td>\n",
       "      <td>0.0</td>\n",
       "      <td>NaN</td>\n",
       "      <td>129.0</td>\n",
       "      <td>61.0</td>\n",
       "      <td>1.9105</td>\n",
       "    </tr>\n",
       "  </tbody>\n",
       "</table>\n",
       "<p>5 rows × 84 columns</p>\n",
       "</div>"
      ],
      "text/plain": [
       "      npi2016 nppes_provider_last_org_name nppes_provider_first_name  \\\n",
       "0  1003000126                    ENKESHAFI                   ARDALAN   \n",
       "1  1003000142                       KHALIL                    RASHID   \n",
       "2  1003000167                      ESCOBAR                     JULIO   \n",
       "3  1003000282                    BLAKEMORE                     ROSIE   \n",
       "4  1003000407                      GIRARDI                     DAVID   \n",
       "\n",
       "  nppes_provider_mi nppes_credentials nppes_provider_gender nppes_entity_code  \\\n",
       "0               NaN              M.D.                     M                 I   \n",
       "1               NaN              M.D.                     M                 I   \n",
       "2                 E               DDS                     M                 I   \n",
       "3                 K               FNP                     F                 I   \n",
       "4                 J              D.O.                     M                 I   \n",
       "\n",
       "       nppes_provider_street1 nppes_provider_street2 nppes_provider_city  ...  \\\n",
       "0                900 SETON DR                    NaN          CUMBERLAND  ...   \n",
       "1  4126 N HOLLAND SYLVANIA RD              SUITE 220              TOLEDO  ...   \n",
       "2              5 PINE CONE RD                    NaN              DAYTON  ...   \n",
       "3  TENNESSEE PRISON FOR WOMEN     3881 STEWARTS LANE           NASHVILLE  ...   \n",
       "4             100 HOSPITAL RD                    NaN          BROOKVILLE  ...   \n",
       "\n",
       "   beneficiary_male_count  beneficiary_race_white_count  \\\n",
       "0                    80.0                         153.0   \n",
       "1                    88.0                         159.0   \n",
       "2                    12.0                           NaN   \n",
       "3                    11.0                           NaN   \n",
       "4                    64.0                           NaN   \n",
       "\n",
       "  beneficiary_race_black_count beneficiary_race_asian_pi_count  \\\n",
       "0                          NaN                             0.0   \n",
       "1                         54.0                             NaN   \n",
       "2                          0.0                             NaN   \n",
       "3                          NaN                             0.0   \n",
       "4                          NaN                             0.0   \n",
       "\n",
       "  beneficiary_race_hispanic_count beneficiary_race_nat_ind_count  \\\n",
       "0                             NaN                            0.0   \n",
       "1                             NaN                            0.0   \n",
       "2                             0.0                            0.0   \n",
       "3                             0.0                            0.0   \n",
       "4                             0.0                            0.0   \n",
       "\n",
       "  beneficiary_race_other_count  beneficiary_nondual_count  \\\n",
       "0                          NaN                      102.0   \n",
       "1                          NaN                      108.0   \n",
       "2                          0.0                        NaN   \n",
       "3                          0.0                        NaN   \n",
       "4                          NaN                      129.0   \n",
       "\n",
       "   beneficiary_dual_count  beneficiary_average_risk_score  \n",
       "0                    68.0                          2.1950  \n",
       "1                   117.0                          1.8032  \n",
       "2                     NaN                          1.0949  \n",
       "3                     NaN                          1.7014  \n",
       "4                    61.0                          1.9105  \n",
       "\n",
       "[5 rows x 84 columns]"
      ]
     },
     "execution_count": 34,
     "metadata": {},
     "output_type": "execute_result"
    }
   ],
   "source": [
    "data_2016.rename(columns={'npi':'npi2016'},inplace=True)\n",
    "data_2016.head()"
   ]
  },
  {
   "cell_type": "code",
   "execution_count": 35,
   "metadata": {},
   "outputs": [
    {
     "data": {
      "text/html": [
       "<div>\n",
       "<style scoped>\n",
       "    .dataframe tbody tr th:only-of-type {\n",
       "        vertical-align: middle;\n",
       "    }\n",
       "\n",
       "    .dataframe tbody tr th {\n",
       "        vertical-align: top;\n",
       "    }\n",
       "\n",
       "    .dataframe thead th {\n",
       "        text-align: right;\n",
       "    }\n",
       "</style>\n",
       "<table border=\"1\" class=\"dataframe\">\n",
       "  <thead>\n",
       "    <tr style=\"text-align: right;\">\n",
       "      <th></th>\n",
       "      <th>npi2016</th>\n",
       "      <th>nppes_provider_last_org_name_2016</th>\n",
       "      <th>nppes_provider_first_name_2016</th>\n",
       "      <th>nppes_provider_mi_2016</th>\n",
       "      <th>nppes_credentials_2016</th>\n",
       "      <th>nppes_provider_gender_2016</th>\n",
       "      <th>nppes_entity_code_2016</th>\n",
       "      <th>nppes_provider_street1_2016</th>\n",
       "      <th>nppes_provider_street2_2016</th>\n",
       "      <th>nppes_provider_city_2016</th>\n",
       "      <th>...</th>\n",
       "      <th>beneficiary_male_count_2017</th>\n",
       "      <th>beneficiary_race_white_count_2017</th>\n",
       "      <th>beneficiary_race_black_count_2017</th>\n",
       "      <th>beneficiary_race_asian_pi_count_2017</th>\n",
       "      <th>beneficiary_race_hispanic_count_2017</th>\n",
       "      <th>beneficiary_race_nat_ind_count_2017</th>\n",
       "      <th>beneficiary_race_other_count_2017</th>\n",
       "      <th>beneficiary_nondual_count_2017</th>\n",
       "      <th>beneficiary_dual_count_2017</th>\n",
       "      <th>beneficiary_average_risk_score_2017</th>\n",
       "    </tr>\n",
       "  </thead>\n",
       "  <tbody>\n",
       "    <tr>\n",
       "      <th>0</th>\n",
       "      <td>1003000126</td>\n",
       "      <td>ENKESHAFI</td>\n",
       "      <td>ARDALAN</td>\n",
       "      <td>NaN</td>\n",
       "      <td>M.D.</td>\n",
       "      <td>M</td>\n",
       "      <td>I</td>\n",
       "      <td>900 SETON DR</td>\n",
       "      <td>NaN</td>\n",
       "      <td>CUMBERLAND</td>\n",
       "      <td>...</td>\n",
       "      <td>92.0</td>\n",
       "      <td>220.0</td>\n",
       "      <td>14.0</td>\n",
       "      <td>0.0</td>\n",
       "      <td>0.0</td>\n",
       "      <td>0.0</td>\n",
       "      <td>0.0</td>\n",
       "      <td>143.0</td>\n",
       "      <td>91.0</td>\n",
       "      <td>2.1685</td>\n",
       "    </tr>\n",
       "    <tr>\n",
       "      <th>1</th>\n",
       "      <td>1003000142</td>\n",
       "      <td>KHALIL</td>\n",
       "      <td>RASHID</td>\n",
       "      <td>NaN</td>\n",
       "      <td>M.D.</td>\n",
       "      <td>M</td>\n",
       "      <td>I</td>\n",
       "      <td>4126 N HOLLAND SYLVANIA RD</td>\n",
       "      <td>SUITE 220</td>\n",
       "      <td>TOLEDO</td>\n",
       "      <td>...</td>\n",
       "      <td>92.0</td>\n",
       "      <td>195.0</td>\n",
       "      <td>58.0</td>\n",
       "      <td>NaN</td>\n",
       "      <td>NaN</td>\n",
       "      <td>0.0</td>\n",
       "      <td>NaN</td>\n",
       "      <td>143.0</td>\n",
       "      <td>133.0</td>\n",
       "      <td>1.8029</td>\n",
       "    </tr>\n",
       "    <tr>\n",
       "      <th>2</th>\n",
       "      <td>1003000167</td>\n",
       "      <td>ESCOBAR</td>\n",
       "      <td>JULIO</td>\n",
       "      <td>E</td>\n",
       "      <td>DDS</td>\n",
       "      <td>M</td>\n",
       "      <td>I</td>\n",
       "      <td>5 PINE CONE RD</td>\n",
       "      <td>NaN</td>\n",
       "      <td>DAYTON</td>\n",
       "      <td>...</td>\n",
       "      <td>17.0</td>\n",
       "      <td>NaN</td>\n",
       "      <td>0.0</td>\n",
       "      <td>0.0</td>\n",
       "      <td>NaN</td>\n",
       "      <td>0.0</td>\n",
       "      <td>0.0</td>\n",
       "      <td>NaN</td>\n",
       "      <td>NaN</td>\n",
       "      <td>1.0598</td>\n",
       "    </tr>\n",
       "    <tr>\n",
       "      <th>3</th>\n",
       "      <td>1003000282</td>\n",
       "      <td>BLAKEMORE</td>\n",
       "      <td>ROSIE</td>\n",
       "      <td>K</td>\n",
       "      <td>FNP</td>\n",
       "      <td>F</td>\n",
       "      <td>I</td>\n",
       "      <td>TENNESSEE PRISON FOR WOMEN</td>\n",
       "      <td>3881 STEWARTS LANE</td>\n",
       "      <td>NASHVILLE</td>\n",
       "      <td>...</td>\n",
       "      <td>NaN</td>\n",
       "      <td>NaN</td>\n",
       "      <td>NaN</td>\n",
       "      <td>0.0</td>\n",
       "      <td>NaN</td>\n",
       "      <td>0.0</td>\n",
       "      <td>0.0</td>\n",
       "      <td>NaN</td>\n",
       "      <td>NaN</td>\n",
       "      <td>4.5148</td>\n",
       "    </tr>\n",
       "    <tr>\n",
       "      <th>4</th>\n",
       "      <td>1003000407</td>\n",
       "      <td>GIRARDI</td>\n",
       "      <td>DAVID</td>\n",
       "      <td>J</td>\n",
       "      <td>D.O.</td>\n",
       "      <td>M</td>\n",
       "      <td>I</td>\n",
       "      <td>100 HOSPITAL RD</td>\n",
       "      <td>NaN</td>\n",
       "      <td>BROOKVILLE</td>\n",
       "      <td>...</td>\n",
       "      <td>31.0</td>\n",
       "      <td>117.0</td>\n",
       "      <td>0.0</td>\n",
       "      <td>0.0</td>\n",
       "      <td>0.0</td>\n",
       "      <td>0.0</td>\n",
       "      <td>0.0</td>\n",
       "      <td>71.0</td>\n",
       "      <td>46.0</td>\n",
       "      <td>1.8494</td>\n",
       "    </tr>\n",
       "  </tbody>\n",
       "</table>\n",
       "<p>5 rows × 168 columns</p>\n",
       "</div>"
      ],
      "text/plain": [
       "      npi2016 nppes_provider_last_org_name_2016  \\\n",
       "0  1003000126                         ENKESHAFI   \n",
       "1  1003000142                            KHALIL   \n",
       "2  1003000167                           ESCOBAR   \n",
       "3  1003000282                         BLAKEMORE   \n",
       "4  1003000407                           GIRARDI   \n",
       "\n",
       "  nppes_provider_first_name_2016 nppes_provider_mi_2016  \\\n",
       "0                        ARDALAN                    NaN   \n",
       "1                         RASHID                    NaN   \n",
       "2                          JULIO                      E   \n",
       "3                          ROSIE                      K   \n",
       "4                          DAVID                      J   \n",
       "\n",
       "  nppes_credentials_2016 nppes_provider_gender_2016 nppes_entity_code_2016  \\\n",
       "0                   M.D.                          M                      I   \n",
       "1                   M.D.                          M                      I   \n",
       "2                    DDS                          M                      I   \n",
       "3                    FNP                          F                      I   \n",
       "4                   D.O.                          M                      I   \n",
       "\n",
       "  nppes_provider_street1_2016 nppes_provider_street2_2016  \\\n",
       "0                900 SETON DR                         NaN   \n",
       "1  4126 N HOLLAND SYLVANIA RD                   SUITE 220   \n",
       "2              5 PINE CONE RD                         NaN   \n",
       "3  TENNESSEE PRISON FOR WOMEN          3881 STEWARTS LANE   \n",
       "4             100 HOSPITAL RD                         NaN   \n",
       "\n",
       "  nppes_provider_city_2016  ...  beneficiary_male_count_2017  \\\n",
       "0               CUMBERLAND  ...                         92.0   \n",
       "1                   TOLEDO  ...                         92.0   \n",
       "2                   DAYTON  ...                         17.0   \n",
       "3                NASHVILLE  ...                          NaN   \n",
       "4               BROOKVILLE  ...                         31.0   \n",
       "\n",
       "   beneficiary_race_white_count_2017 beneficiary_race_black_count_2017  \\\n",
       "0                              220.0                              14.0   \n",
       "1                              195.0                              58.0   \n",
       "2                                NaN                               0.0   \n",
       "3                                NaN                               NaN   \n",
       "4                              117.0                               0.0   \n",
       "\n",
       "  beneficiary_race_asian_pi_count_2017 beneficiary_race_hispanic_count_2017  \\\n",
       "0                                  0.0                                  0.0   \n",
       "1                                  NaN                                  NaN   \n",
       "2                                  0.0                                  NaN   \n",
       "3                                  0.0                                  NaN   \n",
       "4                                  0.0                                  0.0   \n",
       "\n",
       "  beneficiary_race_nat_ind_count_2017 beneficiary_race_other_count_2017  \\\n",
       "0                                 0.0                               0.0   \n",
       "1                                 0.0                               NaN   \n",
       "2                                 0.0                               0.0   \n",
       "3                                 0.0                               0.0   \n",
       "4                                 0.0                               0.0   \n",
       "\n",
       "   beneficiary_nondual_count_2017  beneficiary_dual_count_2017  \\\n",
       "0                           143.0                         91.0   \n",
       "1                           143.0                        133.0   \n",
       "2                             NaN                          NaN   \n",
       "3                             NaN                          NaN   \n",
       "4                            71.0                         46.0   \n",
       "\n",
       "   beneficiary_average_risk_score_2017  \n",
       "0                               2.1685  \n",
       "1                               1.8029  \n",
       "2                               1.0598  \n",
       "3                               4.5148  \n",
       "4                               1.8494  \n",
       "\n",
       "[5 rows x 168 columns]"
      ]
     },
     "execution_count": 35,
     "metadata": {},
     "output_type": "execute_result"
    }
   ],
   "source": [
    "both_years = pd.merge(data_2016, data, left_on='npi2016', right_on='npi', suffixes=('_2016', '_2017'))\n",
    "both_years.head()"
   ]
  },
  {
   "cell_type": "code",
   "execution_count": 36,
   "metadata": {},
   "outputs": [
    {
     "data": {
      "text/html": [
       "<div>\n",
       "<style scoped>\n",
       "    .dataframe tbody tr th:only-of-type {\n",
       "        vertical-align: middle;\n",
       "    }\n",
       "\n",
       "    .dataframe tbody tr th {\n",
       "        vertical-align: top;\n",
       "    }\n",
       "\n",
       "    .dataframe thead th {\n",
       "        text-align: right;\n",
       "    }\n",
       "</style>\n",
       "<table border=\"1\" class=\"dataframe\">\n",
       "  <thead>\n",
       "    <tr style=\"text-align: right;\">\n",
       "      <th></th>\n",
       "      <th>npi2016</th>\n",
       "      <th>total_drug_cost_2016</th>\n",
       "      <th>npi</th>\n",
       "      <th>total_drug_cost_2017</th>\n",
       "    </tr>\n",
       "  </thead>\n",
       "  <tbody>\n",
       "    <tr>\n",
       "      <th>0</th>\n",
       "      <td>1003000126</td>\n",
       "      <td>33618.18</td>\n",
       "      <td>1003000126</td>\n",
       "      <td>32639.57</td>\n",
       "    </tr>\n",
       "    <tr>\n",
       "      <th>1</th>\n",
       "      <td>1003000142</td>\n",
       "      <td>139695.81</td>\n",
       "      <td>1003000142</td>\n",
       "      <td>140189.01</td>\n",
       "    </tr>\n",
       "    <tr>\n",
       "      <th>2</th>\n",
       "      <td>1003000167</td>\n",
       "      <td>267.81</td>\n",
       "      <td>1003000167</td>\n",
       "      <td>302.01</td>\n",
       "    </tr>\n",
       "    <tr>\n",
       "      <th>3</th>\n",
       "      <td>1003000282</td>\n",
       "      <td>4587.11</td>\n",
       "      <td>1003000282</td>\n",
       "      <td>7561.21</td>\n",
       "    </tr>\n",
       "    <tr>\n",
       "      <th>4</th>\n",
       "      <td>1003000407</td>\n",
       "      <td>112183.11</td>\n",
       "      <td>1003000407</td>\n",
       "      <td>108601.73</td>\n",
       "    </tr>\n",
       "  </tbody>\n",
       "</table>\n",
       "</div>"
      ],
      "text/plain": [
       "      npi2016  total_drug_cost_2016         npi  total_drug_cost_2017\n",
       "0  1003000126              33618.18  1003000126              32639.57\n",
       "1  1003000142             139695.81  1003000142             140189.01\n",
       "2  1003000167                267.81  1003000167                302.01\n",
       "3  1003000282               4587.11  1003000282               7561.21\n",
       "4  1003000407             112183.11  1003000407             108601.73"
      ]
     },
     "execution_count": 36,
     "metadata": {},
     "output_type": "execute_result"
    }
   ],
   "source": [
    "two_year_provider = both_years[['npi2016','total_drug_cost_2016','npi','total_drug_cost_2017']].copy()\n",
    "two_year_provider.head()"
   ]
  },
  {
   "cell_type": "code",
   "execution_count": 37,
   "metadata": {},
   "outputs": [
    {
     "name": "stdout",
     "output_type": "stream",
     "text": [
      "True\n"
     ]
    }
   ],
   "source": [
    "two_year_match = two_year_provider[two_year_provider['npi2016'] == two_year_provider['npi']]\n",
    "print(len(two_year_match) == len(two_year_provider))"
   ]
  },
  {
   "cell_type": "code",
   "execution_count": 38,
   "metadata": {},
   "outputs": [],
   "source": [
    "two_year_provider['cost/day_2016'] = two_year_provider['total_drug_cost_2016'] / 366\n",
    "two_year_provider['cost/day_2017'] = two_year_provider['total_drug_cost_2017'] / 365\n",
    "two_year_provider['inflation_rate'] = (((two_year_provider['cost/day_2017'] / two_year_provider['cost/day_2016']) *\n",
    "                                        100)/100)"
   ]
  },
  {
   "cell_type": "code",
   "execution_count": 39,
   "metadata": {},
   "outputs": [
    {
     "data": {
      "text/html": [
       "<div>\n",
       "<style scoped>\n",
       "    .dataframe tbody tr th:only-of-type {\n",
       "        vertical-align: middle;\n",
       "    }\n",
       "\n",
       "    .dataframe tbody tr th {\n",
       "        vertical-align: top;\n",
       "    }\n",
       "\n",
       "    .dataframe thead th {\n",
       "        text-align: right;\n",
       "    }\n",
       "</style>\n",
       "<table border=\"1\" class=\"dataframe\">\n",
       "  <thead>\n",
       "    <tr style=\"text-align: right;\">\n",
       "      <th></th>\n",
       "      <th>npi2016</th>\n",
       "      <th>total_drug_cost_2016</th>\n",
       "      <th>npi</th>\n",
       "      <th>total_drug_cost_2017</th>\n",
       "      <th>cost/day_2016</th>\n",
       "      <th>cost/day_2017</th>\n",
       "      <th>inflation_rate</th>\n",
       "    </tr>\n",
       "  </thead>\n",
       "  <tbody>\n",
       "    <tr>\n",
       "      <th>0</th>\n",
       "      <td>1003000126</td>\n",
       "      <td>33618.18</td>\n",
       "      <td>1003000126</td>\n",
       "      <td>32639.57</td>\n",
       "      <td>91.852951</td>\n",
       "      <td>89.423479</td>\n",
       "      <td>0.973550</td>\n",
       "    </tr>\n",
       "    <tr>\n",
       "      <th>1</th>\n",
       "      <td>1003000142</td>\n",
       "      <td>139695.81</td>\n",
       "      <td>1003000142</td>\n",
       "      <td>140189.01</td>\n",
       "      <td>381.682541</td>\n",
       "      <td>384.079479</td>\n",
       "      <td>1.006280</td>\n",
       "    </tr>\n",
       "    <tr>\n",
       "      <th>2</th>\n",
       "      <td>1003000167</td>\n",
       "      <td>267.81</td>\n",
       "      <td>1003000167</td>\n",
       "      <td>302.01</td>\n",
       "      <td>0.731721</td>\n",
       "      <td>0.827425</td>\n",
       "      <td>1.130792</td>\n",
       "    </tr>\n",
       "    <tr>\n",
       "      <th>3</th>\n",
       "      <td>1003000282</td>\n",
       "      <td>4587.11</td>\n",
       "      <td>1003000282</td>\n",
       "      <td>7561.21</td>\n",
       "      <td>12.533087</td>\n",
       "      <td>20.715644</td>\n",
       "      <td>1.652876</td>\n",
       "    </tr>\n",
       "    <tr>\n",
       "      <th>4</th>\n",
       "      <td>1003000407</td>\n",
       "      <td>112183.11</td>\n",
       "      <td>1003000407</td>\n",
       "      <td>108601.73</td>\n",
       "      <td>306.511230</td>\n",
       "      <td>297.538986</td>\n",
       "      <td>0.970728</td>\n",
       "    </tr>\n",
       "  </tbody>\n",
       "</table>\n",
       "</div>"
      ],
      "text/plain": [
       "      npi2016  total_drug_cost_2016         npi  total_drug_cost_2017  \\\n",
       "0  1003000126              33618.18  1003000126              32639.57   \n",
       "1  1003000142             139695.81  1003000142             140189.01   \n",
       "2  1003000167                267.81  1003000167                302.01   \n",
       "3  1003000282               4587.11  1003000282               7561.21   \n",
       "4  1003000407             112183.11  1003000407             108601.73   \n",
       "\n",
       "   cost/day_2016  cost/day_2017  inflation_rate  \n",
       "0      91.852951      89.423479        0.973550  \n",
       "1     381.682541     384.079479        1.006280  \n",
       "2       0.731721       0.827425        1.130792  \n",
       "3      12.533087      20.715644        1.652876  \n",
       "4     306.511230     297.538986        0.970728  "
      ]
     },
     "execution_count": 39,
     "metadata": {},
     "output_type": "execute_result"
    }
   ],
   "source": [
    "two_year_provider.head()"
   ]
  },
  {
   "cell_type": "code",
   "execution_count": 40,
   "metadata": {},
   "outputs": [
    {
     "data": {
      "text/plain": [
       "2.2902976158502297"
      ]
     },
     "execution_count": 40,
     "metadata": {},
     "output_type": "execute_result"
    }
   ],
   "source": [
    "two_year_provider['inflation_rate'].mean()"
   ]
  },
  {
   "cell_type": "markdown",
   "metadata": {},
   "source": [
    "# Q8"
   ]
  },
  {
   "cell_type": "code",
   "execution_count": 41,
   "metadata": {},
   "outputs": [
    {
     "data": {
      "text/plain": [
       "specialty_description\n",
       "Acupuncturist                                 86\n",
       "Addiction Medicine                           217\n",
       "Advanced Practice Dental Therapist             2\n",
       "Allergy/ Immunology                         3600\n",
       "Allergy/Immunology                           416\n",
       "                                           ...  \n",
       "Unknown Supplier/Provider Specialty           10\n",
       "Urology                                    10710\n",
       "Vascular Surgery                            2966\n",
       "Veterinarian                                   3\n",
       "Voluntary Health or Charitable Agencies        1\n",
       "Name: npi2016, Length: 223, dtype: int64"
      ]
     },
     "execution_count": 41,
     "metadata": {},
     "output_type": "execute_result"
    }
   ],
   "source": [
    "left_spec = data_2016.groupby(['specialty_description'])['npi2016'].count()\n",
    "left_spec"
   ]
  },
  {
   "cell_type": "code",
   "execution_count": 42,
   "metadata": {},
   "outputs": [
    {
     "data": {
      "text/plain": [
       "specialty_description\n",
       "Acupuncturist                                          86\n",
       "Addiction Medicine                                    268\n",
       "Adult Companion                                         2\n",
       "Advanced Heart Failure and Transplant Cardiology       24\n",
       "Advanced Practice Dental Therapist                      3\n",
       "                                                    ...  \n",
       "Unknown Supplier/Provider Specialty                     6\n",
       "Urology                                             10707\n",
       "Vascular Surgery                                     3056\n",
       "Veterinarian                                            4\n",
       "Voluntary Health or Charitable Agency                   1\n",
       "Name: npi, Length: 214, dtype: int64"
      ]
     },
     "execution_count": 42,
     "metadata": {},
     "output_type": "execute_result"
    }
   ],
   "source": [
    "right_spec = data.groupby(['specialty_description'])['npi'].count()\n",
    "right_spec"
   ]
  },
  {
   "cell_type": "code",
   "execution_count": 43,
   "metadata": {},
   "outputs": [],
   "source": [
    "all_spec = pd.merge(left_spec, right_spec, how='outer', on='specialty_description')\n",
    "# Fixed two naming errors, others ignored when dropping nans\n",
    "all_spec.loc['Allergy/ Immunology','npi2016'] += all_spec.loc['Allergy/Immunology','npi2016']\n",
    "all_spec.loc['Obstetrics & Gynecology','npi2016'] += all_spec.loc['Obstetrics/Gynecology','npi2016']\n",
    "all_spec.dropna(inplace=True)\n",
    "largest = all_spec[all_spec['npi2016'] > 1000].copy()"
   ]
  },
  {
   "cell_type": "code",
   "execution_count": 44,
   "metadata": {},
   "outputs": [],
   "source": [
    "all_spec.to_excel('all.xlsx')"
   ]
  },
  {
   "cell_type": "code",
   "execution_count": 45,
   "metadata": {},
   "outputs": [],
   "source": [
    "largest['difference'] = largest['npi2016'] - largest['npi']\n",
    "largest['ratio'] = largest['difference']/largest['npi2016']"
   ]
  },
  {
   "cell_type": "code",
   "execution_count": 46,
   "metadata": {},
   "outputs": [
    {
     "data": {
      "text/html": [
       "<div>\n",
       "<style scoped>\n",
       "    .dataframe tbody tr th:only-of-type {\n",
       "        vertical-align: middle;\n",
       "    }\n",
       "\n",
       "    .dataframe tbody tr th {\n",
       "        vertical-align: top;\n",
       "    }\n",
       "\n",
       "    .dataframe thead th {\n",
       "        text-align: right;\n",
       "    }\n",
       "</style>\n",
       "<table border=\"1\" class=\"dataframe\">\n",
       "  <thead>\n",
       "    <tr style=\"text-align: right;\">\n",
       "      <th></th>\n",
       "      <th>npi2016</th>\n",
       "      <th>npi</th>\n",
       "      <th>difference</th>\n",
       "      <th>ratio</th>\n",
       "    </tr>\n",
       "    <tr>\n",
       "      <th>specialty_description</th>\n",
       "      <th></th>\n",
       "      <th></th>\n",
       "      <th></th>\n",
       "      <th></th>\n",
       "    </tr>\n",
       "  </thead>\n",
       "  <tbody>\n",
       "    <tr>\n",
       "      <th>Pathology</th>\n",
       "      <td>1066.0</td>\n",
       "      <td>958.0</td>\n",
       "      <td>108.0</td>\n",
       "      <td>0.101313</td>\n",
       "    </tr>\n",
       "    <tr>\n",
       "      <th>Specialist</th>\n",
       "      <td>3763.0</td>\n",
       "      <td>3456.0</td>\n",
       "      <td>307.0</td>\n",
       "      <td>0.081584</td>\n",
       "    </tr>\n",
       "    <tr>\n",
       "      <th>Cardiac Surgery</th>\n",
       "      <td>1182.0</td>\n",
       "      <td>1096.0</td>\n",
       "      <td>86.0</td>\n",
       "      <td>0.072758</td>\n",
       "    </tr>\n",
       "    <tr>\n",
       "      <th>Pediatric Medicine</th>\n",
       "      <td>11744.0</td>\n",
       "      <td>10950.0</td>\n",
       "      <td>794.0</td>\n",
       "      <td>0.067609</td>\n",
       "    </tr>\n",
       "    <tr>\n",
       "      <th>Diagnostic Radiology</th>\n",
       "      <td>4421.0</td>\n",
       "      <td>4245.0</td>\n",
       "      <td>176.0</td>\n",
       "      <td>0.039810</td>\n",
       "    </tr>\n",
       "    <tr>\n",
       "      <th>General Practice</th>\n",
       "      <td>10171.0</td>\n",
       "      <td>9923.0</td>\n",
       "      <td>248.0</td>\n",
       "      <td>0.024383</td>\n",
       "    </tr>\n",
       "    <tr>\n",
       "      <th>Internal Medicine</th>\n",
       "      <td>133174.0</td>\n",
       "      <td>130302.0</td>\n",
       "      <td>2872.0</td>\n",
       "      <td>0.021566</td>\n",
       "    </tr>\n",
       "    <tr>\n",
       "      <th>Certified Clinical Nurse Specialist</th>\n",
       "      <td>2710.0</td>\n",
       "      <td>2652.0</td>\n",
       "      <td>58.0</td>\n",
       "      <td>0.021402</td>\n",
       "    </tr>\n",
       "    <tr>\n",
       "      <th>Anesthesiology</th>\n",
       "      <td>7180.0</td>\n",
       "      <td>7057.0</td>\n",
       "      <td>123.0</td>\n",
       "      <td>0.017131</td>\n",
       "    </tr>\n",
       "    <tr>\n",
       "      <th>Maxillofacial Surgery</th>\n",
       "      <td>1147.0</td>\n",
       "      <td>1139.0</td>\n",
       "      <td>8.0</td>\n",
       "      <td>0.006975</td>\n",
       "    </tr>\n",
       "  </tbody>\n",
       "</table>\n",
       "</div>"
      ],
      "text/plain": [
       "                                      npi2016       npi  difference     ratio\n",
       "specialty_description                                                        \n",
       "Pathology                              1066.0     958.0       108.0  0.101313\n",
       "Specialist                             3763.0    3456.0       307.0  0.081584\n",
       "Cardiac Surgery                        1182.0    1096.0        86.0  0.072758\n",
       "Pediatric Medicine                    11744.0   10950.0       794.0  0.067609\n",
       "Diagnostic Radiology                   4421.0    4245.0       176.0  0.039810\n",
       "General Practice                      10171.0    9923.0       248.0  0.024383\n",
       "Internal Medicine                    133174.0  130302.0      2872.0  0.021566\n",
       "Certified Clinical Nurse Specialist    2710.0    2652.0        58.0  0.021402\n",
       "Anesthesiology                         7180.0    7057.0       123.0  0.017131\n",
       "Maxillofacial Surgery                  1147.0    1139.0         8.0  0.006975"
      ]
     },
     "execution_count": 46,
     "metadata": {},
     "output_type": "execute_result"
    }
   ],
   "source": [
    "largest.nlargest(10, 'ratio')"
   ]
  },
  {
   "cell_type": "code",
   "execution_count": null,
   "metadata": {},
   "outputs": [],
   "source": []
  },
  {
   "cell_type": "code",
   "execution_count": null,
   "metadata": {},
   "outputs": [],
   "source": []
  }
 ],
 "metadata": {
  "kernelspec": {
   "display_name": "Python 3",
   "language": "python",
   "name": "python3"
  },
  "language_info": {
   "codemirror_mode": {
    "name": "ipython",
    "version": 3
   },
   "file_extension": ".py",
   "mimetype": "text/x-python",
   "name": "python",
   "nbconvert_exporter": "python",
   "pygments_lexer": "ipython3",
   "version": "3.7.6"
  }
 },
 "nbformat": 4,
 "nbformat_minor": 2
}
